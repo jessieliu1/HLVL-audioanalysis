{
  "nbformat": 4,
  "nbformat_minor": 0,
  "metadata": {
    "colab": {
      "name": "EyeFixationsWithVGGishFeatures.ipynb",
      "version": "0.3.2",
      "provenance": [],
      "include_colab_link": true
    },
    "kernelspec": {
      "name": "python3",
      "display_name": "Python 3"
    },
    "accelerator": "GPU"
  },
  "cells": [
    {
      "cell_type": "markdown",
      "metadata": {
        "id": "view-in-github",
        "colab_type": "text"
      },
      "source": [
        "<a href=\"https://colab.research.google.com/github/jessieliu1/HLVL-audioanalysis/blob/master/EyeFixationsWithVGGishFeatures.ipynb\" target=\"_parent\"><img src=\"https://colab.research.google.com/assets/colab-badge.svg\" alt=\"Open In Colab\"/></a>"
      ]
    },
    {
      "metadata": {
        "colab_type": "code",
        "outputId": "2f3e8570-8492-4b44-d17a-e22f4d77e797",
        "id": "TTn47jxr9Azy",
        "colab": {
          "base_uri": "https://localhost:8080/",
          "height": 34
        }
      },
      "cell_type": "code",
      "source": [
        "from google.colab import drive\n",
        "drive.mount('/content/drive')"
      ],
      "execution_count": 1,
      "outputs": [
        {
          "output_type": "stream",
          "text": [
            "Drive already mounted at /content/drive; to attempt to forcibly remount, call drive.mount(\"/content/drive\", force_remount=True).\n"
          ],
          "name": "stdout"
        }
      ]
    },
    {
      "metadata": {
        "id": "B6N_1bGF5dmk",
        "colab_type": "code",
        "outputId": "846b1392-dbda-491e-ac40-59f00c9389b1",
        "colab": {
          "base_uri": "https://localhost:8080/",
          "height": 170
        }
      },
      "cell_type": "code",
      "source": [
        "!pip install numpy scipy soundfile resampy six"
      ],
      "execution_count": 2,
      "outputs": [
        {
          "output_type": "stream",
          "text": [
            "Requirement already satisfied: numpy in /usr/local/lib/python3.6/dist-packages (1.16.2)\n",
            "Requirement already satisfied: scipy in /usr/local/lib/python3.6/dist-packages (1.2.1)\n",
            "Requirement already satisfied: soundfile in /usr/local/lib/python3.6/dist-packages (0.10.2)\n",
            "Requirement already satisfied: resampy in /usr/local/lib/python3.6/dist-packages (0.2.1)\n",
            "Requirement already satisfied: six in /usr/local/lib/python3.6/dist-packages (1.11.0)\n",
            "Requirement already satisfied: cffi>=1.0 in /usr/local/lib/python3.6/dist-packages (from soundfile) (1.12.2)\n",
            "Requirement already satisfied: numba>=0.32 in /usr/local/lib/python3.6/dist-packages (from resampy) (0.40.1)\n",
            "Requirement already satisfied: pycparser in /usr/local/lib/python3.6/dist-packages (from cffi>=1.0->soundfile) (2.19)\n",
            "Requirement already satisfied: llvmlite>=0.25.0dev0 in /usr/local/lib/python3.6/dist-packages (from numba>=0.32->resampy) (0.28.0)\n"
          ],
          "name": "stdout"
        }
      ]
    },
    {
      "metadata": {
        "id": "ZreDEU9e5nFM",
        "colab_type": "code",
        "outputId": "9bd71af9-4e26-4a1a-ff31-dbf5521cf33a",
        "colab": {
          "base_uri": "https://localhost:8080/",
          "height": 34
        }
      },
      "cell_type": "code",
      "source": [
        "!git clone https://github.com/tensorflow/models.git"
      ],
      "execution_count": 3,
      "outputs": [
        {
          "output_type": "stream",
          "text": [
            "fatal: destination path 'models' already exists and is not an empty directory.\n"
          ],
          "name": "stdout"
        }
      ]
    },
    {
      "metadata": {
        "id": "i7bAUH0l5zTZ",
        "colab_type": "code",
        "outputId": "b0d4e533-ade6-4868-b6a0-30ddba69697f",
        "colab": {
          "base_uri": "https://localhost:8080/",
          "height": 119
        }
      },
      "cell_type": "code",
      "source": [
        "# Grab the VGGish model\n",
        "!curl -O https://storage.googleapis.com/audioset/vggish_model.ckpt\n",
        "!curl -O https://storage.googleapis.com/audioset/vggish_pca_params.npz"
      ],
      "execution_count": 4,
      "outputs": [
        {
          "output_type": "stream",
          "text": [
            "  % Total    % Received % Xferd  Average Speed   Time    Time     Time  Current\n",
            "                                 Dload  Upload   Total   Spent    Left  Speed\n",
            "100  277M  100  277M    0     0   155M      0  0:00:01  0:00:01 --:--:--  155M\n",
            "  % Total    % Received % Xferd  Average Speed   Time    Time     Time  Current\n",
            "                                 Dload  Upload   Total   Spent    Left  Speed\n",
            "100 73020  100 73020    0     0   869k      0 --:--:-- --:--:-- --:--:--  869k\n"
          ],
          "name": "stdout"
        }
      ]
    },
    {
      "metadata": {
        "id": "VhWc1Oht58BU",
        "colab_type": "code",
        "colab": {}
      },
      "cell_type": "code",
      "source": [
        "!cp models/research/audioset/* ."
      ],
      "execution_count": 0,
      "outputs": []
    },
    {
      "metadata": {
        "id": "akqiG5pVzgGF",
        "colab_type": "code",
        "outputId": "ec2dcefb-35c6-4800-de5a-c50863fdb5a9",
        "colab": {
          "resources": {
            "http://localhost:8080/nbextensions/google.colab/files.js": {
              "data": "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",
              "ok": true,
              "headers": [
                [
                  "content-type",
                  "application/javascript"
                ]
              ],
              "status": 200,
              "status_text": ""
            }
          },
          "base_uri": "https://localhost:8080/",
          "height": 108
        }
      },
      "cell_type": "code",
      "source": [
        "from google.colab import files\n",
        "files.upload()"
      ],
      "execution_count": 6,
      "outputs": [
        {
          "output_type": "display_data",
          "data": {
            "text/html": [
              "\n",
              "     <input type=\"file\" id=\"files-549f65ac-1d82-435a-b2e2-bc280623a88f\" name=\"files[]\" multiple disabled />\n",
              "     <output id=\"result-549f65ac-1d82-435a-b2e2-bc280623a88f\">\n",
              "      Upload widget is only available when the cell has been executed in the\n",
              "      current browser session. Please rerun this cell to enable.\n",
              "      </output>\n",
              "      <script src=\"/nbextensions/google.colab/files.js\"></script> "
            ],
            "text/plain": [
              "<IPython.core.display.HTML object>"
            ]
          },
          "metadata": {
            "tags": []
          }
        },
        {
          "output_type": "stream",
          "text": [
            "Saving vggish_input_modified.py to vggish_input_modified (1).py\n"
          ],
          "name": "stdout"
        },
        {
          "output_type": "execute_result",
          "data": {
            "text/plain": [
              "{'vggish_input_modified.py': b'# Copyright 2017 The TensorFlow Authors All Rights Reserved.\\n#\\n# Licensed under the Apache License, Version 2.0 (the \"License\");\\n# you may not use this file except in compliance with the License.\\n# You may obtain a copy of the License at\\n#\\n#     http://www.apache.org/licenses/LICENSE-2.0\\n#\\n# Unless required by applicable law or agreed to in writing, software\\n# distributed under the License is distributed on an \"AS IS\" BASIS,\\n# WITHOUT WARRANTIES OR CONDITIONS OF ANY KIND, either express or implied.\\n# See the License for the specific language governing permissions and\\n# limitations under the License.\\n# ==============================================================================\\n\\n\"\"\"Compute input examples for VGGish from audio waveform.\"\"\"\\n\\nimport numpy as np\\nimport resampy\\nfrom scipy.io import wavfile\\n\\nimport mel_features\\nimport vggish_params\\n\\n\\ndef waveform_to_examples(data, sample_rate,hop_length_seconds=None):\\n  \"\"\"Converts audio waveform into an array of examples for VGGish.\\n\\n  Args:\\n    data: np.array of either one dimension (mono) or two dimensions\\n      (multi-channel, with the outer dimension representing channels).\\n      Each sample is generally expected to lie in the range [-1.0, +1.0],\\n      although this is not required.\\n    sample_rate: Sample rate of data.\\n\\n  Returns:\\n    3-D np.array of shape [num_examples, num_frames, num_bands] which represents\\n    a sequence of examples, each of which contains a patch of log mel\\n    spectrogram, covering num_frames frames of audio and num_bands mel frequency\\n    bands, where the frame length is vggish_params.STFT_HOP_LENGTH_SECONDS.\\n  \"\"\"\\n  # Convert to mono.\\n  if len(data.shape) > 1:\\n    data = np.mean(data, axis=1)\\n  # Resample to the rate assumed by VGGish.\\n  if sample_rate != vggish_params.SAMPLE_RATE:\\n    data = resampy.resample(data, sample_rate, vggish_params.SAMPLE_RATE)\\n\\n  # Compute log mel spectrogram features.\\n  log_mel = mel_features.log_mel_spectrogram(\\n      data,\\n      audio_sample_rate=vggish_params.SAMPLE_RATE,\\n      log_offset=vggish_params.LOG_OFFSET,\\n      window_length_secs=vggish_params.STFT_WINDOW_LENGTH_SECONDS,\\n      hop_length_secs=vggish_params.STFT_HOP_LENGTH_SECONDS,\\n      num_mel_bins=vggish_params.NUM_MEL_BINS,\\n      lower_edge_hertz=vggish_params.MEL_MIN_HZ,\\n      upper_edge_hertz=vggish_params.MEL_MAX_HZ)\\n\\n  # Frame features into examples.\\n  features_sample_rate = 1.0 / vggish_params.STFT_HOP_LENGTH_SECONDS\\n  example_window_length = int(round(\\n      vggish_params.EXAMPLE_WINDOW_SECONDS * features_sample_rate))\\n  if hop_length_seconds != None:\\n    example_hop_length = int(round(hop_length_seconds * features_sample_rate))\\n  else:\\n    example_hop_length = int(round(\\n        vggish_params.EXAMPLE_HOP_SECONDS * features_sample_rate))\\n  log_mel_examples = mel_features.frame(\\n      log_mel,\\n      window_length=example_window_length,\\n      hop_length=example_hop_length)\\n  return log_mel_examples\\n\\n\\ndef wavfile_to_examples(wav_file):\\n  \"\"\"Convenience wrapper around waveform_to_examples() for a common WAV format.\\n\\n  Args:\\n    wav_file: String path to a file, or a file-like object. The file\\n    is assumed to contain WAV audio data with signed 16-bit PCM samples.\\n\\n  Returns:\\n    See waveform_to_examples.\\n  \"\"\"\\n  sr, wav_data = wavfile.read(wav_file)\\n  assert wav_data.dtype == np.int16, \\'Bad sample type: %r\\' % wav_data.dtype\\n  samples = wav_data / 32768.0  # Convert to [-1.0, +1.0]\\n  return waveform_to_examples(samples, sr)\\n'}"
            ]
          },
          "metadata": {
            "tags": []
          },
          "execution_count": 6
        }
      ]
    },
    {
      "metadata": {
        "id": "iQrsnuj85QVw",
        "colab_type": "code",
        "colab": {
          "base_uri": "https://localhost:8080/",
          "height": 136
        },
        "outputId": "3ce560d1-50e2-4c31-b43a-38db407f529c"
      },
      "cell_type": "code",
      "source": [
        "import vggish_slim\n",
        "import vggish_params\n",
        "import vggish_input_modified\n",
        "import vggish_postprocess\n",
        "import numpy as np\n",
        "from scipy.io import wavfile\n",
        "import pandas as pd\n",
        "from sklearn.model_selection import train_test_split\n",
        "from sklearn.decomposition import PCA\n",
        "from sklearn.neighbors import KNeighborsClassifier\n",
        "import scipy"
      ],
      "execution_count": 7,
      "outputs": [
        {
          "output_type": "stream",
          "text": [
            "\n",
            "WARNING: The TensorFlow contrib module will not be included in TensorFlow 2.0.\n",
            "For more information, please see:\n",
            "  * https://github.com/tensorflow/community/blob/master/rfcs/20180907-contrib-sunset.md\n",
            "  * https://github.com/tensorflow/addons\n",
            "If you depend on functionality not listed there, please file an issue.\n",
            "\n"
          ],
          "name": "stdout"
        }
      ]
    },
    {
      "metadata": {
        "id": "olZo9oIF5QV5",
        "colab_type": "code",
        "colab": {}
      },
      "cell_type": "code",
      "source": [
        "\n",
        "def CreateVGGishNetwork(hop_size=0.96):   # Hop size is in seconds.\n",
        "  \"\"\"Define VGGish model, load the checkpoint, and return a dictionary that points\n",
        "  to the different tensors defined by the model.\n",
        "  \"\"\"\n",
        "  vggish_slim.define_vggish_slim()\n",
        "  checkpoint_path = 'vggish_model.ckpt'\n",
        "  vggish_params.EXAMPLE_HOP_SECONDS = hop_size\n",
        "  \n",
        "  vggish_slim.load_vggish_slim_checkpoint(sess, checkpoint_path)\n",
        "\n",
        "  features_tensor = sess.graph.get_tensor_by_name(\n",
        "      vggish_params.INPUT_TENSOR_NAME)\n",
        "  embedding_tensor = sess.graph.get_tensor_by_name(\n",
        "      vggish_params.OUTPUT_TENSOR_NAME)\n",
        "\n",
        "  layers = {'conv1': 'vggish/conv1/Relu',\n",
        "            'pool1': 'vggish/pool1/MaxPool',\n",
        "            'conv2': 'vggish/conv2/Relu',\n",
        "            'pool2': 'vggish/pool2/MaxPool',\n",
        "            'conv3': 'vggish/conv3/conv3_2/Relu',\n",
        "            'pool3': 'vggish/pool3/MaxPool',\n",
        "            'conv4': 'vggish/conv4/conv4_2/Relu',\n",
        "            'pool4': 'vggish/pool4/MaxPool',\n",
        "            'fc1': 'vggish/fc1/fc1_2/Relu',\n",
        "            'fc2': 'vggish/fc2/Relu',\n",
        "            'embedding': 'vggish/embedding',\n",
        "            'features': 'vggish/input_features',\n",
        "         }\n",
        "  g = tf.get_default_graph()\n",
        "  for k in layers:\n",
        "    layers[k] = g.get_tensor_by_name( layers[k] + ':0')\n",
        "    \n",
        "  return {'features': features_tensor,\n",
        "          'embedding': embedding_tensor,\n",
        "          'layers': layers,\n",
        "         }"
      ],
      "execution_count": 0,
      "outputs": []
    },
    {
      "metadata": {
        "id": "3rU0sxem5QV_",
        "colab_type": "code",
        "colab": {}
      },
      "cell_type": "code",
      "source": [
        "def ProcessWithVGGish(vgg, x, sr,hop_length):\n",
        "  '''Run the VGGish model, starting with a sound (x) at sample rate\n",
        "  (sr). Return a whitened version of the embeddings. Sound must be scaled to be\n",
        "  floats between -1 and +1.'''\n",
        "\n",
        "  # Produce a batch of log mel spectrogram examples.\n",
        "  input_batch = vggish_input_modified.waveform_to_examples(wav_data, sr,hop_length)\n",
        "  print('Log Mel Spectrogram example: ', input_batch[0])\n",
        "\n",
        "  [embedding_batch] = sess.run([vgg['embedding']],\n",
        "                               feed_dict={vgg['features']: input_batch})\n",
        "  return embedding_batch\n",
        "  # Postprocess the results to produce whitened quantized embeddings.\n",
        "  pca_params_path = 'vggish_pca_params.npz'\n",
        "\n",
        "  pproc = vggish_postprocess.Postprocessor(pca_params_path)\n",
        "  postprocessed_batch = pproc.postprocess(embedding_batch)\n",
        "  # print('Postprocessed VGGish embedding: ', postprocessed_batch[0])\n",
        "  return postprocessed_batch[0]\n"
      ],
      "execution_count": 0,
      "outputs": []
    },
    {
      "metadata": {
        "id": "cLGnsQRT5QWD",
        "colab_type": "code",
        "outputId": "837aab43-2355-4d1d-d0de-9a9b7fadfa89",
        "colab": {
          "base_uri": "https://localhost:8080/",
          "height": 207
        }
      },
      "cell_type": "code",
      "source": [
        "import tensorflow as tf\n",
        "tf.reset_default_graph()\n",
        "sess = tf.Session()\n",
        "\n",
        "vgg = CreateVGGishNetwork()"
      ],
      "execution_count": 10,
      "outputs": [
        {
          "output_type": "stream",
          "text": [
            "WARNING:tensorflow:From /usr/local/lib/python3.6/dist-packages/tensorflow/python/framework/op_def_library.py:263: colocate_with (from tensorflow.python.framework.ops) is deprecated and will be removed in a future version.\n",
            "Instructions for updating:\n",
            "Colocations handled automatically by placer.\n",
            "WARNING:tensorflow:From /usr/local/lib/python3.6/dist-packages/tensorflow/contrib/layers/python/layers/layers.py:1624: flatten (from tensorflow.python.layers.core) is deprecated and will be removed in a future version.\n",
            "Instructions for updating:\n",
            "Use keras.layers.flatten instead.\n",
            "WARNING:tensorflow:From /usr/local/lib/python3.6/dist-packages/tensorflow/python/training/saver.py:1266: checkpoint_exists (from tensorflow.python.training.checkpoint_management) is deprecated and will be removed in a future version.\n",
            "Instructions for updating:\n",
            "Use standard file APIs to check for files with this prefix.\n",
            "INFO:tensorflow:Restoring parameters from vggish_model.ckpt\n"
          ],
          "name": "stdout"
        }
      ]
    },
    {
      "metadata": {
        "id": "W-vA1tQH5QWJ",
        "colab_type": "code",
        "outputId": "82a4c020-7233-4880-a630-88c30e7f96da",
        "colab": {
          "base_uri": "https://localhost:8080/",
          "height": 34
        }
      },
      "cell_type": "code",
      "source": [
        "\n",
        "sr, wav_data = wavfile.read(\"/content/drive/My Drive/Experiments/1.wav\")\n",
        "assert wav_data.dtype == np.int16, 'Bad sample type: %r' % wav_data.dtype\n",
        "samples = wav_data / 32768.0  # Convert to [-1.0, +1.0]\n",
        "print(samples.shape)"
      ],
      "execution_count": 11,
      "outputs": [
        {
          "output_type": "stream",
          "text": [
            "(14358528, 2)\n"
          ],
          "name": "stdout"
        }
      ]
    },
    {
      "metadata": {
        "id": "1QNtjwIn5QWP",
        "colab_type": "code",
        "outputId": "fc05b79a-5089-47d6-b157-541002481873",
        "colab": {
          "base_uri": "https://localhost:8080/",
          "height": 238
        }
      },
      "cell_type": "code",
      "source": [
        "values = ProcessWithVGGish(vgg,samples,sr,1)"
      ],
      "execution_count": 12,
      "outputs": [
        {
          "output_type": "stream",
          "text": [
            "Log Mel Spectrogram example:  [[-4.60517019 -4.60517019 -4.60517019 ... -4.60517019 -4.60517019\n",
            "  -4.60517019]\n",
            " [-4.60516493 -4.60516466 -4.60516473 ... -4.5913113  -4.56679878\n",
            "  -4.50297035]\n",
            " [ 3.83898025  3.86098965  3.86187834 ...  2.19312893  2.45686938\n",
            "   2.89196845]\n",
            " ...\n",
            " [ 8.22712457  8.46715877  8.54160253 ...  8.36054963  8.90810603\n",
            "   8.84854899]\n",
            " [ 7.27135771  7.63229146  8.03926786 ...  7.69950079  8.71524054\n",
            "   8.60150408]\n",
            " [ 8.05478424  7.91861928  7.47251224 ...  7.97652325  8.29346308\n",
            "   8.64135969]]\n"
          ],
          "name": "stdout"
        }
      ]
    },
    {
      "metadata": {
        "id": "ypMhnTK95QWU",
        "colab_type": "code",
        "colab": {}
      },
      "cell_type": "code",
      "source": [
        "df = pd.read_csv(\"/content/drive/My Drive/Experiments/subsampled_b_fixation_timestamps.csv\")"
      ],
      "execution_count": 0,
      "outputs": []
    },
    {
      "metadata": {
        "id": "sK5JE1L05QWl",
        "colab_type": "code",
        "colab": {}
      },
      "cell_type": "code",
      "source": [
        "df_final = df"
      ],
      "execution_count": 0,
      "outputs": []
    },
    {
      "metadata": {
        "id": "y5GWUNZI5QWr",
        "colab_type": "code",
        "colab": {}
      },
      "cell_type": "code",
      "source": [
        "features = []\n",
        "for number in range(128):\n",
        "    features.append(\"feature\"+str(number))"
      ],
      "execution_count": 0,
      "outputs": []
    },
    {
      "metadata": {
        "id": "UYcumVRz5QWt",
        "colab_type": "code",
        "colab": {}
      },
      "cell_type": "code",
      "source": [
        "df_final = pd.concat([df_final,pd.DataFrame(values,columns=features)],axis=1)"
      ],
      "execution_count": 0,
      "outputs": []
    },
    {
      "metadata": {
        "id": "5HtXAr2fLD3Q",
        "colab_type": "code",
        "colab": {
          "base_uri": "https://localhost:8080/",
          "height": 253
        },
        "outputId": "34eac33b-e78c-4983-b6b8-1c5a7db5d41d"
      },
      "cell_type": "code",
      "source": [
        "df_final.head()"
      ],
      "execution_count": 17,
      "outputs": [
        {
          "output_type": "execute_result",
          "data": {
            "text/html": [
              "<div>\n",
              "<style scoped>\n",
              "    .dataframe tbody tr th:only-of-type {\n",
              "        vertical-align: middle;\n",
              "    }\n",
              "\n",
              "    .dataframe tbody tr th {\n",
              "        vertical-align: top;\n",
              "    }\n",
              "\n",
              "    .dataframe thead th {\n",
              "        text-align: right;\n",
              "    }\n",
              "</style>\n",
              "<table border=\"1\" class=\"dataframe\">\n",
              "  <thead>\n",
              "    <tr style=\"text-align: right;\">\n",
              "      <th></th>\n",
              "      <th>start_timestamp</th>\n",
              "      <th>end_timestamp</th>\n",
              "      <th>fixation</th>\n",
              "      <th>feature0</th>\n",
              "      <th>feature1</th>\n",
              "      <th>feature2</th>\n",
              "      <th>feature3</th>\n",
              "      <th>feature4</th>\n",
              "      <th>feature5</th>\n",
              "      <th>feature6</th>\n",
              "      <th>...</th>\n",
              "      <th>feature118</th>\n",
              "      <th>feature119</th>\n",
              "      <th>feature120</th>\n",
              "      <th>feature121</th>\n",
              "      <th>feature122</th>\n",
              "      <th>feature123</th>\n",
              "      <th>feature124</th>\n",
              "      <th>feature125</th>\n",
              "      <th>feature126</th>\n",
              "      <th>feature127</th>\n",
              "    </tr>\n",
              "  </thead>\n",
              "  <tbody>\n",
              "    <tr>\n",
              "      <th>0</th>\n",
              "      <td>0</td>\n",
              "      <td>1</td>\n",
              "      <td>slideimage</td>\n",
              "      <td>0.0</td>\n",
              "      <td>0.000000</td>\n",
              "      <td>0.473913</td>\n",
              "      <td>0.0</td>\n",
              "      <td>0.0</td>\n",
              "      <td>0.0</td>\n",
              "      <td>0.000000</td>\n",
              "      <td>...</td>\n",
              "      <td>0.0</td>\n",
              "      <td>0.0</td>\n",
              "      <td>0.000000</td>\n",
              "      <td>0.0</td>\n",
              "      <td>0.0</td>\n",
              "      <td>0.05154</td>\n",
              "      <td>0.195064</td>\n",
              "      <td>0.0</td>\n",
              "      <td>0.000000</td>\n",
              "      <td>0.057337</td>\n",
              "    </tr>\n",
              "    <tr>\n",
              "      <th>1</th>\n",
              "      <td>1</td>\n",
              "      <td>2</td>\n",
              "      <td>speaker</td>\n",
              "      <td>0.0</td>\n",
              "      <td>0.090622</td>\n",
              "      <td>0.609878</td>\n",
              "      <td>0.0</td>\n",
              "      <td>0.0</td>\n",
              "      <td>0.0</td>\n",
              "      <td>0.618378</td>\n",
              "      <td>...</td>\n",
              "      <td>0.0</td>\n",
              "      <td>0.0</td>\n",
              "      <td>0.164851</td>\n",
              "      <td>0.0</td>\n",
              "      <td>0.0</td>\n",
              "      <td>0.00000</td>\n",
              "      <td>0.080484</td>\n",
              "      <td>0.0</td>\n",
              "      <td>0.118719</td>\n",
              "      <td>0.133484</td>\n",
              "    </tr>\n",
              "    <tr>\n",
              "      <th>2</th>\n",
              "      <td>2</td>\n",
              "      <td>3</td>\n",
              "      <td>slidetext</td>\n",
              "      <td>0.0</td>\n",
              "      <td>0.000000</td>\n",
              "      <td>0.525057</td>\n",
              "      <td>0.0</td>\n",
              "      <td>0.0</td>\n",
              "      <td>0.0</td>\n",
              "      <td>0.230552</td>\n",
              "      <td>...</td>\n",
              "      <td>0.0</td>\n",
              "      <td>0.0</td>\n",
              "      <td>0.000000</td>\n",
              "      <td>0.0</td>\n",
              "      <td>0.0</td>\n",
              "      <td>0.00000</td>\n",
              "      <td>0.258882</td>\n",
              "      <td>0.0</td>\n",
              "      <td>0.195439</td>\n",
              "      <td>0.000000</td>\n",
              "    </tr>\n",
              "    <tr>\n",
              "      <th>3</th>\n",
              "      <td>3</td>\n",
              "      <td>4</td>\n",
              "      <td>speaker</td>\n",
              "      <td>0.0</td>\n",
              "      <td>0.000000</td>\n",
              "      <td>0.634766</td>\n",
              "      <td>0.0</td>\n",
              "      <td>0.0</td>\n",
              "      <td>0.0</td>\n",
              "      <td>0.299442</td>\n",
              "      <td>...</td>\n",
              "      <td>0.0</td>\n",
              "      <td>0.0</td>\n",
              "      <td>0.145457</td>\n",
              "      <td>0.0</td>\n",
              "      <td>0.0</td>\n",
              "      <td>0.00000</td>\n",
              "      <td>0.159751</td>\n",
              "      <td>0.0</td>\n",
              "      <td>0.273584</td>\n",
              "      <td>0.000000</td>\n",
              "    </tr>\n",
              "    <tr>\n",
              "      <th>4</th>\n",
              "      <td>4</td>\n",
              "      <td>5</td>\n",
              "      <td>slidetext</td>\n",
              "      <td>0.0</td>\n",
              "      <td>0.009878</td>\n",
              "      <td>0.727963</td>\n",
              "      <td>0.0</td>\n",
              "      <td>0.0</td>\n",
              "      <td>0.0</td>\n",
              "      <td>0.590634</td>\n",
              "      <td>...</td>\n",
              "      <td>0.0</td>\n",
              "      <td>0.0</td>\n",
              "      <td>0.176966</td>\n",
              "      <td>0.0</td>\n",
              "      <td>0.0</td>\n",
              "      <td>0.00000</td>\n",
              "      <td>0.378839</td>\n",
              "      <td>0.0</td>\n",
              "      <td>0.677478</td>\n",
              "      <td>0.000000</td>\n",
              "    </tr>\n",
              "  </tbody>\n",
              "</table>\n",
              "<p>5 rows × 131 columns</p>\n",
              "</div>"
            ],
            "text/plain": [
              "   start_timestamp  end_timestamp    fixation  feature0  feature1  feature2  \\\n",
              "0                0              1  slideimage       0.0  0.000000  0.473913   \n",
              "1                1              2     speaker       0.0  0.090622  0.609878   \n",
              "2                2              3   slidetext       0.0  0.000000  0.525057   \n",
              "3                3              4     speaker       0.0  0.000000  0.634766   \n",
              "4                4              5   slidetext       0.0  0.009878  0.727963   \n",
              "\n",
              "   feature3  feature4  feature5  feature6     ...      feature118  feature119  \\\n",
              "0       0.0       0.0       0.0  0.000000     ...             0.0         0.0   \n",
              "1       0.0       0.0       0.0  0.618378     ...             0.0         0.0   \n",
              "2       0.0       0.0       0.0  0.230552     ...             0.0         0.0   \n",
              "3       0.0       0.0       0.0  0.299442     ...             0.0         0.0   \n",
              "4       0.0       0.0       0.0  0.590634     ...             0.0         0.0   \n",
              "\n",
              "   feature120  feature121  feature122  feature123  feature124  feature125  \\\n",
              "0    0.000000         0.0         0.0     0.05154    0.195064         0.0   \n",
              "1    0.164851         0.0         0.0     0.00000    0.080484         0.0   \n",
              "2    0.000000         0.0         0.0     0.00000    0.258882         0.0   \n",
              "3    0.145457         0.0         0.0     0.00000    0.159751         0.0   \n",
              "4    0.176966         0.0         0.0     0.00000    0.378839         0.0   \n",
              "\n",
              "   feature126  feature127  \n",
              "0    0.000000    0.057337  \n",
              "1    0.118719    0.133484  \n",
              "2    0.195439    0.000000  \n",
              "3    0.273584    0.000000  \n",
              "4    0.677478    0.000000  \n",
              "\n",
              "[5 rows x 131 columns]"
            ]
          },
          "metadata": {
            "tags": []
          },
          "execution_count": 17
        }
      ]
    },
    {
      "metadata": {
        "id": "ZFLOLq1V0Bjb",
        "colab_type": "code",
        "outputId": "337d3ee7-7d8f-42bb-ae4e-b7742eb8f32f",
        "colab": {
          "base_uri": "https://localhost:8080/",
          "height": 102
        }
      },
      "cell_type": "code",
      "source": [
        "print(df_final.groupby(['fixation']).size())"
      ],
      "execution_count": 18,
      "outputs": [
        {
          "output_type": "stream",
          "text": [
            "fixation\n",
            "slideimage     28\n",
            "slidetext     177\n",
            "speaker        94\n",
            "dtype: int64\n"
          ],
          "name": "stdout"
        }
      ]
    },
    {
      "metadata": {
        "id": "BHRSy5or1Wrs",
        "colab_type": "code",
        "colab": {}
      },
      "cell_type": "code",
      "source": [
        "df_final_slideimage = df_final[df_final['fixation'] == 'slideimage']\n",
        "df_final_slidetext = df_final[df_final['fixation'] == 'slidetext']\n",
        "df_final_speaker = df_final[df_final['fixation'] == 'speaker']"
      ],
      "execution_count": 0,
      "outputs": []
    },
    {
      "metadata": {
        "id": "CUc1tVHb16Gc",
        "colab_type": "code",
        "colab": {}
      },
      "cell_type": "code",
      "source": [
        "df_final_slidetext = df_final_slidetext.sample(n=28)\n",
        "df_final_speaker = df_final_speaker.sample(n=28)"
      ],
      "execution_count": 0,
      "outputs": []
    },
    {
      "metadata": {
        "id": "GLrnu7672JQH",
        "colab_type": "code",
        "colab": {}
      },
      "cell_type": "code",
      "source": [
        "df_final = pd.concat([df_final_slideimage, df_final_slidetext, df_final_speaker])\n",
        "df_final = df_final.drop(['start_timestamp', 'end_timestamp'],axis = 1)\n",
        "df_final = df_final.sample(frac=1)"
      ],
      "execution_count": 0,
      "outputs": []
    },
    {
      "metadata": {
        "id": "JMYk5SCx5QWw",
        "colab_type": "code",
        "colab": {
          "base_uri": "https://localhost:8080/",
          "height": 4318
        },
        "outputId": "b962a713-9d5f-4f28-f8ef-32e1c2a90e3e"
      },
      "cell_type": "code",
      "source": [
        "X= df_final[features]\n",
        "y = df_final[\"fixation\"]\n",
        "print(X)"
      ],
      "execution_count": 22,
      "outputs": [
        {
          "output_type": "stream",
          "text": [
            "     feature0  feature1  feature2  feature3  feature4  feature5  feature6  \\\n",
            "179       0.0  0.000000  0.638802       0.0       0.0       0.0  0.006179   \n",
            "297       0.0  0.000000  0.303533       0.0       0.0       0.0  0.423875   \n",
            "228       0.0  0.000000  0.496438       0.0       0.0       0.0  0.703057   \n",
            "185       0.0  0.024727  0.350624       0.0       0.0       0.0  0.377231   \n",
            "18        0.0  0.000000  0.591949       0.0       0.0       0.0  0.214699   \n",
            "268       0.0  0.000000  0.863994       0.0       0.0       0.0  0.386131   \n",
            "11        0.0  0.130057  0.806913       0.0       0.0       0.0  0.095876   \n",
            "282       0.0  0.000000  0.393873       0.0       0.0       0.0  0.987548   \n",
            "294       0.0  0.000000  0.203179       0.0       0.0       0.0  0.679887   \n",
            "218       0.0  0.000000  0.290178       0.0       0.0       0.0  0.305644   \n",
            "117       0.0  0.000000  0.665162       0.0       0.0       0.0  0.552771   \n",
            "194       0.0  0.000000  0.673239       0.0       0.0       0.0  0.000000   \n",
            "95        0.0  0.000000  0.677554       0.0       0.0       0.0  0.317334   \n",
            "249       0.0  0.000000  0.341376       0.0       0.0       0.0  0.363656   \n",
            "161       0.0  0.000000  0.672536       0.0       0.0       0.0  0.025185   \n",
            "83        0.0  0.026148  0.414919       0.0       0.0       0.0  0.318861   \n",
            "32        0.0  0.000000  0.701629       0.0       0.0       0.0  0.466367   \n",
            "265       0.0  0.117974  0.241348       0.0       0.0       0.0  0.268359   \n",
            "72        0.0  0.000000  0.785413       0.0       0.0       0.0  0.000000   \n",
            "168       0.0  0.040567  0.733842       0.0       0.0       0.0  0.494014   \n",
            "90        0.0  0.000000  0.756390       0.0       0.0       0.0  0.383606   \n",
            "16        0.0  0.044813  0.372618       0.0       0.0       0.0  0.462950   \n",
            "12        0.0  0.082708  0.619281       0.0       0.0       0.0  0.317737   \n",
            "70        0.0  0.108679  0.216877       0.0       0.0       0.0  0.473098   \n",
            "57        0.0  0.126914  0.469402       0.0       0.0       0.0  0.809071   \n",
            "62        0.0  0.000000  0.408272       0.0       0.0       0.0  0.229619   \n",
            "71        0.0  0.000000  0.784334       0.0       0.0       0.0  0.000000   \n",
            "188       0.0  0.000000  0.290888       0.0       0.0       0.0  0.470388   \n",
            "59        0.0  0.042085  0.214482       0.0       0.0       0.0  0.370458   \n",
            "151       0.0  0.049662  0.462875       0.0       0.0       0.0  0.275671   \n",
            "..        ...       ...       ...       ...       ...       ...       ...   \n",
            "150       0.0  0.000000  0.774516       0.0       0.0       0.0  0.315494   \n",
            "149       0.0  0.000000  0.692923       0.0       0.0       0.0  0.391111   \n",
            "60        0.0  0.000000  0.468119       0.0       0.0       0.0  0.142243   \n",
            "147       0.0  0.000000  0.817779       0.0       0.0       0.0  0.000000   \n",
            "85        0.0  0.000000  0.707820       0.0       0.0       0.0  0.082086   \n",
            "40        0.0  0.018361  0.528717       0.0       0.0       0.0  0.723040   \n",
            "115       0.0  0.004273  0.658734       0.0       0.0       0.0  0.399084   \n",
            "19        0.0  0.000000  0.767119       0.0       0.0       0.0  0.000000   \n",
            "200       0.0  0.000000  0.617152       0.0       0.0       0.0  0.209316   \n",
            "80        0.0  0.000000  0.606153       0.0       0.0       0.0  0.131112   \n",
            "28        0.0  0.000000  0.681055       0.0       0.0       0.0  0.986478   \n",
            "234       0.0  0.000000  0.709321       0.0       0.0       0.0  0.029378   \n",
            "204       0.0  0.000000  0.586103       0.0       0.0       0.0  0.351400   \n",
            "255       0.0  0.000000  0.691288       0.0       0.0       0.0  0.000000   \n",
            "120       0.0  0.000000  0.710470       0.0       0.0       0.0  0.456323   \n",
            "61        0.0  0.000000  0.528084       0.0       0.0       0.0  0.264089   \n",
            "214       0.0  0.086423  0.746693       0.0       0.0       0.0  0.329497   \n",
            "261       0.0  0.000000  0.680756       0.0       0.0       0.0  0.141275   \n",
            "13        0.0  0.000000  0.844722       0.0       0.0       0.0  0.344377   \n",
            "148       0.0  0.000000  0.654774       0.0       0.0       0.0  0.511163   \n",
            "235       0.0  0.000000  0.461588       0.0       0.0       0.0  0.561344   \n",
            "213       0.0  0.239813  0.441879       0.0       0.0       0.0  0.201200   \n",
            "46        0.0  0.000000  0.626471       0.0       0.0       0.0  0.073896   \n",
            "247       0.0  0.000000  0.650954       0.0       0.0       0.0  0.062286   \n",
            "252       0.0  0.000000  0.695981       0.0       0.0       0.0  0.597979   \n",
            "100       0.0  0.160744  0.384278       0.0       0.0       0.0  0.213997   \n",
            "38        0.0  0.000000  0.637600       0.0       0.0       0.0  0.000000   \n",
            "21        0.0  0.000000  0.494979       0.0       0.0       0.0  0.511325   \n",
            "207       0.0  0.005926  0.383832       0.0       0.0       0.0  0.534911   \n",
            "197       0.0  0.000000  0.420041       0.0       0.0       0.0  0.072961   \n",
            "\n",
            "     feature7  feature8  feature9     ...      feature118  feature119  \\\n",
            "179  0.167964       0.0       0.0     ...             0.0         0.0   \n",
            "297  0.000000       0.0       0.0     ...             0.0         0.0   \n",
            "228  0.000000       0.0       0.0     ...             0.0         0.0   \n",
            "185  0.186041       0.0       0.0     ...             0.0         0.0   \n",
            "18   0.082141       0.0       0.0     ...             0.0         0.0   \n",
            "268  0.046321       0.0       0.0     ...             0.0         0.0   \n",
            "11   0.305482       0.0       0.0     ...             0.0         0.0   \n",
            "282  0.000000       0.0       0.0     ...             0.0         0.0   \n",
            "294  0.000000       0.0       0.0     ...             0.0         0.0   \n",
            "218  0.184502       0.0       0.0     ...             0.0         0.0   \n",
            "117  0.079220       0.0       0.0     ...             0.0         0.0   \n",
            "194  0.115238       0.0       0.0     ...             0.0         0.0   \n",
            "95   0.258095       0.0       0.0     ...             0.0         0.0   \n",
            "249  0.201125       0.0       0.0     ...             0.0         0.0   \n",
            "161  0.227874       0.0       0.0     ...             0.0         0.0   \n",
            "83   0.000000       0.0       0.0     ...             0.0         0.0   \n",
            "32   0.409964       0.0       0.0     ...             0.0         0.0   \n",
            "265  0.146576       0.0       0.0     ...             0.0         0.0   \n",
            "72   0.000000       0.0       0.0     ...             0.0         0.0   \n",
            "168  0.102779       0.0       0.0     ...             0.0         0.0   \n",
            "90   0.000000       0.0       0.0     ...             0.0         0.0   \n",
            "16   0.000000       0.0       0.0     ...             0.0         0.0   \n",
            "12   0.044632       0.0       0.0     ...             0.0         0.0   \n",
            "70   0.100151       0.0       0.0     ...             0.0         0.0   \n",
            "57   0.142382       0.0       0.0     ...             0.0         0.0   \n",
            "62   0.000000       0.0       0.0     ...             0.0         0.0   \n",
            "71   0.346438       0.0       0.0     ...             0.0         0.0   \n",
            "188  0.036688       0.0       0.0     ...             0.0         0.0   \n",
            "59   0.040867       0.0       0.0     ...             0.0         0.0   \n",
            "151  0.096562       0.0       0.0     ...             0.0         0.0   \n",
            "..        ...       ...       ...     ...             ...         ...   \n",
            "150  0.000000       0.0       0.0     ...             0.0         0.0   \n",
            "149  0.033913       0.0       0.0     ...             0.0         0.0   \n",
            "60   0.171775       0.0       0.0     ...             0.0         0.0   \n",
            "147  0.255483       0.0       0.0     ...             0.0         0.0   \n",
            "85   0.000000       0.0       0.0     ...             0.0         0.0   \n",
            "40   0.195223       0.0       0.0     ...             0.0         0.0   \n",
            "115  0.187829       0.0       0.0     ...             0.0         0.0   \n",
            "19   0.247355       0.0       0.0     ...             0.0         0.0   \n",
            "200  0.323878       0.0       0.0     ...             0.0         0.0   \n",
            "80   0.059587       0.0       0.0     ...             0.0         0.0   \n",
            "28   0.000000       0.0       0.0     ...             0.0         0.0   \n",
            "234  0.060454       0.0       0.0     ...             0.0         0.0   \n",
            "204  0.118823       0.0       0.0     ...             0.0         0.0   \n",
            "255  0.019635       0.0       0.0     ...             0.0         0.0   \n",
            "120  0.073744       0.0       0.0     ...             0.0         0.0   \n",
            "61   0.000000       0.0       0.0     ...             0.0         0.0   \n",
            "214  0.304304       0.0       0.0     ...             0.0         0.0   \n",
            "261  0.000000       0.0       0.0     ...             0.0         0.0   \n",
            "13   0.094092       0.0       0.0     ...             0.0         0.0   \n",
            "148  0.023858       0.0       0.0     ...             0.0         0.0   \n",
            "235  0.000000       0.0       0.0     ...             0.0         0.0   \n",
            "213  0.151832       0.0       0.0     ...             0.0         0.0   \n",
            "46   0.000000       0.0       0.0     ...             0.0         0.0   \n",
            "247  0.000000       0.0       0.0     ...             0.0         0.0   \n",
            "252  0.016047       0.0       0.0     ...             0.0         0.0   \n",
            "100  0.068069       0.0       0.0     ...             0.0         0.0   \n",
            "38   0.010746       0.0       0.0     ...             0.0         0.0   \n",
            "21   0.121346       0.0       0.0     ...             0.0         0.0   \n",
            "207  0.000000       0.0       0.0     ...             0.0         0.0   \n",
            "197  0.131390       0.0       0.0     ...             0.0         0.0   \n",
            "\n",
            "     feature120  feature121  feature122  feature123  feature124  feature125  \\\n",
            "179    0.000000         0.0         0.0      0.0000    0.000000         0.0   \n",
            "297    0.040112         0.0         0.0      0.0000    0.005672         0.0   \n",
            "228    0.140408         0.0         0.0      0.0000    0.453414         0.0   \n",
            "185    0.000000         0.0         0.0      0.0000    0.084575         0.0   \n",
            "18     0.000000         0.0         0.0      0.0000    0.020236         0.0   \n",
            "268    0.000000         0.0         0.0      0.0000    0.036764         0.0   \n",
            "11     0.000000         0.0         0.0      0.0000    0.341514         0.0   \n",
            "282    0.000000         0.0         0.0      0.0000    0.234554         0.0   \n",
            "294    0.174562         0.0         0.0      0.0000    0.176444         0.0   \n",
            "218    0.012616         0.0         0.0      0.0000    0.000000         0.0   \n",
            "117    0.000000         0.0         0.0      0.0000    0.054765         0.0   \n",
            "194    0.000000         0.0         0.0      0.0000    0.175587         0.0   \n",
            "95     0.071495         0.0         0.0      0.0000    0.000000         0.0   \n",
            "249    0.000000         0.0         0.0      0.0000    0.000000         0.0   \n",
            "161    0.000000         0.0         0.0      0.0000    0.000000         0.0   \n",
            "83     0.000000         0.0         0.0      0.0000    0.219018         0.0   \n",
            "32     0.000000         0.0         0.0      0.0000    0.000000         0.0   \n",
            "265    0.000000         0.0         0.0      0.0000    0.222619         0.0   \n",
            "72     0.000000         0.0         0.0      0.0692    0.117244         0.0   \n",
            "168    0.097168         0.0         0.0      0.0000    0.290748         0.0   \n",
            "90     0.000000         0.0         0.0      0.0000    0.054669         0.0   \n",
            "16     0.000000         0.0         0.0      0.0000    0.186129         0.0   \n",
            "12     0.000000         0.0         0.0      0.0000    0.256756         0.0   \n",
            "70     0.047140         0.0         0.0      0.0000    0.166469         0.0   \n",
            "57     0.212620         0.0         0.0      0.0000    0.451128         0.0   \n",
            "62     0.000000         0.0         0.0      0.0000    0.024318         0.0   \n",
            "71     0.000000         0.0         0.0      0.0000    0.000000         0.0   \n",
            "188    0.040474         0.0         0.0      0.0000    0.126286         0.0   \n",
            "59     0.071218         0.0         0.0      0.0000    0.283833         0.0   \n",
            "151    0.100164         0.0         0.0      0.0000    0.016183         0.0   \n",
            "..          ...         ...         ...         ...         ...         ...   \n",
            "150    0.062370         0.0         0.0      0.0000    0.134965         0.0   \n",
            "149    0.000000         0.0         0.0      0.0000    0.068353         0.0   \n",
            "60     0.000000         0.0         0.0      0.0000    0.208118         0.0   \n",
            "147    0.000000         0.0         0.0      0.0000    0.044022         0.0   \n",
            "85     0.000000         0.0         0.0      0.0000    0.000000         0.0   \n",
            "40     0.209744         0.0         0.0      0.0000    0.418085         0.0   \n",
            "115    0.000000         0.0         0.0      0.0000    0.038704         0.0   \n",
            "19     0.032052         0.0         0.0      0.0000    0.053455         0.0   \n",
            "200    0.000000         0.0         0.0      0.0000    0.000000         0.0   \n",
            "80     0.143614         0.0         0.0      0.0000    0.011463         0.0   \n",
            "28     0.000000         0.0         0.0      0.0000    0.453715         0.0   \n",
            "234    0.000000         0.0         0.0      0.0000    0.245704         0.0   \n",
            "204    0.067011         0.0         0.0      0.0000    0.004179         0.0   \n",
            "255    0.000000         0.0         0.0      0.0000    0.000000         0.0   \n",
            "120    0.083580         0.0         0.0      0.0000    0.000000         0.0   \n",
            "61     0.118392         0.0         0.0      0.0000    0.177406         0.0   \n",
            "214    0.115322         0.0         0.0      0.0000    0.076940         0.0   \n",
            "261    0.000000         0.0         0.0      0.0000    0.089251         0.0   \n",
            "13     0.000000         0.0         0.0      0.0000    0.000000         0.0   \n",
            "148    0.092867         0.0         0.0      0.0000    0.261022         0.0   \n",
            "235    0.011901         0.0         0.0      0.0000    0.180002         0.0   \n",
            "213    0.000000         0.0         0.0      0.0000    0.372920         0.0   \n",
            "46     0.000000         0.0         0.0      0.0000    0.000000         0.0   \n",
            "247    0.000000         0.0         0.0      0.0000    0.000000         0.0   \n",
            "252    0.172915         0.0         0.0      0.0000    0.182384         0.0   \n",
            "100    0.103658         0.0         0.0      0.0000    0.434341         0.0   \n",
            "38     0.000000         0.0         0.0      0.0000    0.182676         0.0   \n",
            "21     0.000000         0.0         0.0      0.0000    0.066966         0.0   \n",
            "207    0.000000         0.0         0.0      0.0000    0.212861         0.0   \n",
            "197    0.000000         0.0         0.0      0.0000    0.000000         0.0   \n",
            "\n",
            "     feature126  feature127  \n",
            "179    0.098219    0.000000  \n",
            "297    0.325513    0.000000  \n",
            "228    0.543459    0.000000  \n",
            "185    0.227289    0.000000  \n",
            "18     0.150143    0.037401  \n",
            "268    0.080718    0.000000  \n",
            "11     0.218929    0.000000  \n",
            "282    0.572667    0.000000  \n",
            "294    0.392837    0.000000  \n",
            "218    0.137585    0.075136  \n",
            "117    0.194606    0.000000  \n",
            "194    0.325798    0.000000  \n",
            "95     0.125064    0.000000  \n",
            "249    0.120809    0.154578  \n",
            "161    0.046518    0.083253  \n",
            "83     0.354800    0.000000  \n",
            "32     0.252647    0.138873  \n",
            "265    0.381652    0.000000  \n",
            "72     0.000000    0.000000  \n",
            "168    0.498382    0.000000  \n",
            "90     0.095144    0.000000  \n",
            "16     0.456878    0.000000  \n",
            "12     0.263618    0.000000  \n",
            "70     0.354987    0.182002  \n",
            "57     0.614510    0.412749  \n",
            "62     0.156896    0.000000  \n",
            "71     0.000000    0.029816  \n",
            "188    0.326150    0.046410  \n",
            "59     0.224158    0.072164  \n",
            "151    0.119989    0.000000  \n",
            "..          ...         ...  \n",
            "150    0.389467    0.012738  \n",
            "149    0.251331    0.000000  \n",
            "60     0.000000    0.035168  \n",
            "147    0.284760    0.000000  \n",
            "85     0.089500    0.000000  \n",
            "40     0.867508    0.310281  \n",
            "115    0.432964    0.177928  \n",
            "19     0.122267    0.000000  \n",
            "200    0.042311    0.000000  \n",
            "80     0.219561    0.000000  \n",
            "28     0.759829    0.000000  \n",
            "234    0.091516    0.016084  \n",
            "204    0.273345    0.100309  \n",
            "255    0.182366    0.197957  \n",
            "120    0.167835    0.000000  \n",
            "61     0.474129    0.000000  \n",
            "214    0.330054    0.000000  \n",
            "261    0.094696    0.000000  \n",
            "13     0.000000    0.000000  \n",
            "148    0.457415    0.000000  \n",
            "235    0.325692    0.000000  \n",
            "213    0.483305    0.059244  \n",
            "46     0.045354    0.000000  \n",
            "247    0.238219    0.125792  \n",
            "252    0.123247    0.000000  \n",
            "100    0.329099    0.000000  \n",
            "38     0.195502    0.015559  \n",
            "21     0.375914    0.047156  \n",
            "207    0.239699    0.000000  \n",
            "197    0.218048    0.000000  \n",
            "\n",
            "[84 rows x 128 columns]\n"
          ],
          "name": "stdout"
        }
      ]
    },
    {
      "metadata": {
        "id": "X09NJVyq5QWy",
        "colab_type": "code",
        "colab": {}
      },
      "cell_type": "code",
      "source": [
        "train_X,test_X,train_y,test_y=train_test_split(X,y)"
      ],
      "execution_count": 0,
      "outputs": []
    },
    {
      "metadata": {
        "id": "wVru7FQu5QWz",
        "colab_type": "code",
        "colab": {}
      },
      "cell_type": "code",
      "source": [
        "from sklearn.svm import SVC\n",
        "from sklearn.feature_selection import RFE\n",
        "from sklearn.linear_model import LogisticRegression"
      ],
      "execution_count": 0,
      "outputs": []
    },
    {
      "metadata": {
        "id": "bNTEBG5V5QW1",
        "colab_type": "text"
      },
      "cell_type": "markdown",
      "source": [
        "## try logistic regression"
      ]
    },
    {
      "metadata": {
        "id": "Qqg_Q8qB5QW2",
        "colab_type": "code",
        "outputId": "ed68eea8-101c-4add-8d1f-b7a1c72204d1",
        "colab": {
          "base_uri": "https://localhost:8080/",
          "height": 340
        }
      },
      "cell_type": "code",
      "source": [
        "logreg = LogisticRegression(multi_class='multinomial', solver='lbfgs', max_iter=200)\n",
        "rfe = RFE(logreg, 20)\n",
        "rfe = rfe.fit(X, y)\n",
        "print(rfe.support_)\n",
        "print(rfe.ranking_)"
      ],
      "execution_count": 25,
      "outputs": [
        {
          "output_type": "stream",
          "text": [
            "[False False False False False False  True False False False False False\n",
            " False  True False False False  True False False False False False False\n",
            " False False False False  True False False False False False False False\n",
            " False False False False False False False False  True  True False False\n",
            " False  True False False False False  True False False False False False\n",
            " False False  True False False False False  True False False False False\n",
            " False False False False False False False False False  True  True False\n",
            " False  True  True False False False False  True False  True  True  True\n",
            " False False False False False False False False False False False False\n",
            " False False False False False  True False False False False False False\n",
            " False False False False  True False False False]\n",
            "[109  56  44  69  68  65   1   8  62  73  38  57  77   1  58  51  54   1\n",
            "  92  18  85  31  89  46  61  26  36  10   1  59  21  43  25  33   6  39\n",
            "  20  81  79  40  19  83  24  87   1   1  30  37  16   1   5  97  95  93\n",
            "   1  53  22   7  47   4   3  48   1 107 108 106  96   1  98  42  23  71\n",
            "   9 104  52  13  91  12  67  15  75   1   1  84  27   1   1  88  41  28\n",
            "  74   1  49   1   1   1  66  70  35  80  76  17  55  29  99 101  45 105\n",
            "  34 103 102  60  63   1 100  14  86  82  64  94  11  90  78  50   1  72\n",
            "   2  32]\n"
          ],
          "name": "stdout"
        }
      ]
    },
    {
      "metadata": {
        "id": "GM6LLu8E5QW4",
        "colab_type": "code",
        "colab": {
          "base_uri": "https://localhost:8080/",
          "height": 408
        },
        "outputId": "f7bade3b-a582-4b70-ce6a-3a3de8612251"
      },
      "cell_type": "code",
      "source": [
        "features = np.array(features)\n",
        "print(features)"
      ],
      "execution_count": 26,
      "outputs": [
        {
          "output_type": "stream",
          "text": [
            "['feature0' 'feature1' 'feature2' 'feature3' 'feature4' 'feature5'\n",
            " 'feature6' 'feature7' 'feature8' 'feature9' 'feature10' 'feature11'\n",
            " 'feature12' 'feature13' 'feature14' 'feature15' 'feature16' 'feature17'\n",
            " 'feature18' 'feature19' 'feature20' 'feature21' 'feature22' 'feature23'\n",
            " 'feature24' 'feature25' 'feature26' 'feature27' 'feature28' 'feature29'\n",
            " 'feature30' 'feature31' 'feature32' 'feature33' 'feature34' 'feature35'\n",
            " 'feature36' 'feature37' 'feature38' 'feature39' 'feature40' 'feature41'\n",
            " 'feature42' 'feature43' 'feature44' 'feature45' 'feature46' 'feature47'\n",
            " 'feature48' 'feature49' 'feature50' 'feature51' 'feature52' 'feature53'\n",
            " 'feature54' 'feature55' 'feature56' 'feature57' 'feature58' 'feature59'\n",
            " 'feature60' 'feature61' 'feature62' 'feature63' 'feature64' 'feature65'\n",
            " 'feature66' 'feature67' 'feature68' 'feature69' 'feature70' 'feature71'\n",
            " 'feature72' 'feature73' 'feature74' 'feature75' 'feature76' 'feature77'\n",
            " 'feature78' 'feature79' 'feature80' 'feature81' 'feature82' 'feature83'\n",
            " 'feature84' 'feature85' 'feature86' 'feature87' 'feature88' 'feature89'\n",
            " 'feature90' 'feature91' 'feature92' 'feature93' 'feature94' 'feature95'\n",
            " 'feature96' 'feature97' 'feature98' 'feature99' 'feature100' 'feature101'\n",
            " 'feature102' 'feature103' 'feature104' 'feature105' 'feature106'\n",
            " 'feature107' 'feature108' 'feature109' 'feature110' 'feature111'\n",
            " 'feature112' 'feature113' 'feature114' 'feature115' 'feature116'\n",
            " 'feature117' 'feature118' 'feature119' 'feature120' 'feature121'\n",
            " 'feature122' 'feature123' 'feature124' 'feature125' 'feature126'\n",
            " 'feature127']\n"
          ],
          "name": "stdout"
        }
      ]
    },
    {
      "metadata": {
        "id": "dzN6frKb5QW5",
        "colab_type": "code",
        "colab": {
          "base_uri": "https://localhost:8080/",
          "height": 85
        },
        "outputId": "86bc48b2-ebea-468a-a3f7-10fbe6c78d8f"
      },
      "cell_type": "code",
      "source": [
        "logistic_features = features[rfe.support_]\n",
        "print(logistic_features)"
      ],
      "execution_count": 27,
      "outputs": [
        {
          "output_type": "stream",
          "text": [
            "['feature6' 'feature13' 'feature17' 'feature28' 'feature44' 'feature45'\n",
            " 'feature49' 'feature54' 'feature62' 'feature67' 'feature81' 'feature82'\n",
            " 'feature85' 'feature86' 'feature91' 'feature93' 'feature94' 'feature95'\n",
            " 'feature113' 'feature124']\n"
          ],
          "name": "stdout"
        }
      ]
    },
    {
      "metadata": {
        "id": "8iOQUZug5QW6",
        "colab_type": "text"
      },
      "cell_type": "markdown",
      "source": [
        "## try with all features"
      ]
    },
    {
      "metadata": {
        "id": "J3pw6t1C5QW7",
        "colab_type": "code",
        "outputId": "03fca231-2a33-4e1b-890e-7cded4695121",
        "colab": {
          "base_uri": "https://localhost:8080/",
          "height": 85
        }
      },
      "cell_type": "code",
      "source": [
        "logreg = LogisticRegression(multi_class='multinomial', solver='lbfgs', max_iter=500)\n",
        "logreg.fit(train_X, train_y)"
      ],
      "execution_count": 28,
      "outputs": [
        {
          "output_type": "execute_result",
          "data": {
            "text/plain": [
              "LogisticRegression(C=1.0, class_weight=None, dual=False, fit_intercept=True,\n",
              "          intercept_scaling=1, max_iter=500, multi_class='multinomial',\n",
              "          n_jobs=None, penalty='l2', random_state=None, solver='lbfgs',\n",
              "          tol=0.0001, verbose=0, warm_start=False)"
            ]
          },
          "metadata": {
            "tags": []
          },
          "execution_count": 28
        }
      ]
    },
    {
      "metadata": {
        "id": "g8fPluzb5QW9",
        "colab_type": "code",
        "colab": {}
      },
      "cell_type": "code",
      "source": [
        "pred_y = logreg.predict(test_X)"
      ],
      "execution_count": 0,
      "outputs": []
    },
    {
      "metadata": {
        "id": "Kw4QJoiv5QW-",
        "colab_type": "code",
        "outputId": "784bd8ca-aa67-4b50-baa2-c3c735621689",
        "colab": {
          "base_uri": "https://localhost:8080/",
          "height": 34
        }
      },
      "cell_type": "code",
      "source": [
        "print('Accuracy of logistic regression classifier on test set: {:.2f}'.format(logreg.score(test_X, test_y)))"
      ],
      "execution_count": 30,
      "outputs": [
        {
          "output_type": "stream",
          "text": [
            "Accuracy of logistic regression classifier on test set: 0.48\n"
          ],
          "name": "stdout"
        }
      ]
    },
    {
      "metadata": {
        "id": "xRHUTfbC5QXA",
        "colab_type": "code",
        "outputId": "d4cf8845-58ab-439f-c5ac-91e0f2395f80",
        "colab": {
          "base_uri": "https://localhost:8080/",
          "height": 68
        }
      },
      "cell_type": "code",
      "source": [
        "from sklearn.metrics import confusion_matrix\n",
        "confusion_mat = confusion_matrix(test_y, pred_y)\n",
        "print(confusion_mat)"
      ],
      "execution_count": 31,
      "outputs": [
        {
          "output_type": "stream",
          "text": [
            "[[3 2 1]\n",
            " [2 4 2]\n",
            " [0 4 3]]\n"
          ],
          "name": "stdout"
        }
      ]
    },
    {
      "metadata": {
        "id": "J3CUhZUd5QXD",
        "colab_type": "text"
      },
      "cell_type": "markdown",
      "source": [
        "## try with selected features"
      ]
    },
    {
      "metadata": {
        "id": "4jdbtcfK5QXE",
        "colab_type": "code",
        "outputId": "932fe652-975d-4d81-ca20-6a2aa1885093",
        "colab": {
          "base_uri": "https://localhost:8080/",
          "height": 85
        }
      },
      "cell_type": "code",
      "source": [
        "logreg = LogisticRegression(multi_class='multinomial', solver='lbfgs')\n",
        "logreg.fit(train_X[logistic_features], train_y)"
      ],
      "execution_count": 32,
      "outputs": [
        {
          "output_type": "execute_result",
          "data": {
            "text/plain": [
              "LogisticRegression(C=1.0, class_weight=None, dual=False, fit_intercept=True,\n",
              "          intercept_scaling=1, max_iter=100, multi_class='multinomial',\n",
              "          n_jobs=None, penalty='l2', random_state=None, solver='lbfgs',\n",
              "          tol=0.0001, verbose=0, warm_start=False)"
            ]
          },
          "metadata": {
            "tags": []
          },
          "execution_count": 32
        }
      ]
    },
    {
      "metadata": {
        "id": "lJS6qEhN5QXG",
        "colab_type": "code",
        "colab": {
          "base_uri": "https://localhost:8080/",
          "height": 85
        },
        "outputId": "f7c0b339-492d-465c-ff56-d8f2198c7714"
      },
      "cell_type": "code",
      "source": [
        "pred_y = logreg.predict(test_X[logistic_features])\n",
        "print(pred_y)"
      ],
      "execution_count": 33,
      "outputs": [
        {
          "output_type": "stream",
          "text": [
            "['slidetext' 'speaker' 'slidetext' 'speaker' 'slidetext' 'slidetext'\n",
            " 'speaker' 'slidetext' 'slidetext' 'slideimage' 'speaker' 'slideimage'\n",
            " 'slideimage' 'slidetext' 'speaker' 'slidetext' 'speaker' 'slideimage'\n",
            " 'speaker' 'slidetext' 'speaker']\n"
          ],
          "name": "stdout"
        }
      ]
    },
    {
      "metadata": {
        "id": "p1wiyb5I5QXH",
        "colab_type": "code",
        "outputId": "fc82f015-2cf1-41c7-85e4-fe46bdf3d2e9",
        "colab": {
          "base_uri": "https://localhost:8080/",
          "height": 34
        }
      },
      "cell_type": "code",
      "source": [
        "print('Accuracy of logistic regression classifier on test set: {:.2f}'.format(logreg.score(test_X[logistic_features], test_y)))"
      ],
      "execution_count": 34,
      "outputs": [
        {
          "output_type": "stream",
          "text": [
            "Accuracy of logistic regression classifier on test set: 0.52\n"
          ],
          "name": "stdout"
        }
      ]
    },
    {
      "metadata": {
        "id": "BeNU-OSX5QXJ",
        "colab_type": "code",
        "outputId": "5c7569eb-641f-43fb-dc07-0b7f02eaf070",
        "colab": {
          "base_uri": "https://localhost:8080/",
          "height": 68
        }
      },
      "cell_type": "code",
      "source": [
        "confusion_mat = confusion_matrix(test_y, pred_y)\n",
        "print(confusion_mat)"
      ],
      "execution_count": 35,
      "outputs": [
        {
          "output_type": "stream",
          "text": [
            "[[3 2 1]\n",
            " [1 4 3]\n",
            " [0 3 4]]\n"
          ],
          "name": "stdout"
        }
      ]
    },
    {
      "metadata": {
        "id": "CiHdp6305QXL",
        "colab_type": "text"
      },
      "cell_type": "markdown",
      "source": [
        "## try svc with linear kernel"
      ]
    },
    {
      "metadata": {
        "id": "1F6Yzw1v5QXL",
        "colab_type": "code",
        "outputId": "65a3b7a8-3449-4a16-917b-e7769ec7d6ef",
        "colab": {
          "base_uri": "https://localhost:8080/",
          "height": 85
        }
      },
      "cell_type": "code",
      "source": [
        "svmLinear = SVC(kernel=\"linear\", C=0.15)\n",
        "svmLinear.fit(train_X,train_y)"
      ],
      "execution_count": 36,
      "outputs": [
        {
          "output_type": "execute_result",
          "data": {
            "text/plain": [
              "SVC(C=0.15, cache_size=200, class_weight=None, coef0=0.0,\n",
              "  decision_function_shape='ovr', degree=3, gamma='auto_deprecated',\n",
              "  kernel='linear', max_iter=-1, probability=False, random_state=None,\n",
              "  shrinking=True, tol=0.001, verbose=False)"
            ]
          },
          "metadata": {
            "tags": []
          },
          "execution_count": 36
        }
      ]
    },
    {
      "metadata": {
        "id": "7FI-XkcU5QXN",
        "colab_type": "code",
        "colab": {}
      },
      "cell_type": "code",
      "source": [
        "pred_y = svmLinear.predict(test_X)"
      ],
      "execution_count": 0,
      "outputs": []
    },
    {
      "metadata": {
        "id": "oZcfA_If5QXO",
        "colab_type": "code",
        "outputId": "aacfeae1-dd5a-44d4-d25e-762ab9c083d0",
        "colab": {
          "base_uri": "https://localhost:8080/",
          "height": 34
        }
      },
      "cell_type": "code",
      "source": [
        "print('Accuracy of Linear SVM classifier on test set: {:.2f}'.format(svmLinear.score(test_X, test_y)))"
      ],
      "execution_count": 38,
      "outputs": [
        {
          "output_type": "stream",
          "text": [
            "Accuracy of Linear SVM classifier on test set: 0.38\n"
          ],
          "name": "stdout"
        }
      ]
    },
    {
      "metadata": {
        "id": "RbjrJU7M5QXQ",
        "colab_type": "code",
        "outputId": "d73fc14a-0bb1-4c1e-8317-d40fe6855ed2",
        "colab": {
          "base_uri": "https://localhost:8080/",
          "height": 68
        }
      },
      "cell_type": "code",
      "source": [
        "confusion_mat = confusion_matrix(test_y, pred_y)\n",
        "print(confusion_mat)"
      ],
      "execution_count": 39,
      "outputs": [
        {
          "output_type": "stream",
          "text": [
            "[[6 0 0]\n",
            " [7 0 1]\n",
            " [5 0 2]]\n"
          ],
          "name": "stdout"
        }
      ]
    },
    {
      "metadata": {
        "id": "cApDuVae5QXS",
        "colab_type": "text"
      },
      "cell_type": "markdown",
      "source": [
        "## try with logit features"
      ]
    },
    {
      "metadata": {
        "id": "I8wrmpyn5QXS",
        "colab_type": "code",
        "outputId": "b5847fa8-956b-41d1-c563-48d82d3a42cc",
        "colab": {
          "base_uri": "https://localhost:8080/",
          "height": 85
        }
      },
      "cell_type": "code",
      "source": [
        "svmLinear = SVC(kernel=\"linear\", C=200)\n",
        "svmLinear.fit(train_X[logistic_features], train_y)"
      ],
      "execution_count": 40,
      "outputs": [
        {
          "output_type": "execute_result",
          "data": {
            "text/plain": [
              "SVC(C=200, cache_size=200, class_weight=None, coef0=0.0,\n",
              "  decision_function_shape='ovr', degree=3, gamma='auto_deprecated',\n",
              "  kernel='linear', max_iter=-1, probability=False, random_state=None,\n",
              "  shrinking=True, tol=0.001, verbose=False)"
            ]
          },
          "metadata": {
            "tags": []
          },
          "execution_count": 40
        }
      ]
    },
    {
      "metadata": {
        "id": "rhXk5Isf5QXU",
        "colab_type": "code",
        "colab": {}
      },
      "cell_type": "code",
      "source": [
        "pred_y = svmLinear.predict(test_X[logistic_features])"
      ],
      "execution_count": 0,
      "outputs": []
    },
    {
      "metadata": {
        "id": "ve0Q_BlF5QXV",
        "colab_type": "code",
        "outputId": "2addf120-8607-4fc3-e464-3d77b4969795",
        "colab": {
          "base_uri": "https://localhost:8080/",
          "height": 34
        }
      },
      "cell_type": "code",
      "source": [
        "print('Accuracy of linear svm classifier on test set: {:.2f}'.format(svmLinear.score(test_X[logistic_features], test_y)))"
      ],
      "execution_count": 42,
      "outputs": [
        {
          "output_type": "stream",
          "text": [
            "Accuracy of linear svm classifier on test set: 0.38\n"
          ],
          "name": "stdout"
        }
      ]
    },
    {
      "metadata": {
        "id": "M9pwlvpL5QXX",
        "colab_type": "code",
        "outputId": "a13bfabf-a08f-44ef-d592-4bb1f9ff8379",
        "colab": {
          "base_uri": "https://localhost:8080/",
          "height": 68
        }
      },
      "cell_type": "code",
      "source": [
        "confusion_mat = confusion_matrix(test_y, pred_y)\n",
        "print(confusion_mat)"
      ],
      "execution_count": 43,
      "outputs": [
        {
          "output_type": "stream",
          "text": [
            "[[2 3 1]\n",
            " [2 4 2]\n",
            " [2 3 2]]\n"
          ],
          "name": "stdout"
        }
      ]
    },
    {
      "metadata": {
        "id": "Fpcm8X2J5QXZ",
        "colab_type": "code",
        "colab": {}
      },
      "cell_type": "code",
      "source": [
        "from sklearn.model_selection import GridSearchCV\n",
        "from sklearn.model_selection import StratifiedShuffleSplit\n",
        "C_range = np.linspace(180,300, 100)\n",
        "param_grid = dict(C=C_range)\n",
        "cv = StratifiedShuffleSplit(n_splits=5, test_size=0.2, random_state=42)\n",
        "grid = GridSearchCV(svmLinear, param_grid=param_grid, cv=cv)"
      ],
      "execution_count": 0,
      "outputs": []
    },
    {
      "metadata": {
        "id": "9luehHD05QXb",
        "colab_type": "code",
        "outputId": "7d55b8cb-5de9-42b1-ee6c-111ec3be6947",
        "colab": {
          "base_uri": "https://localhost:8080/",
          "height": 204
        }
      },
      "cell_type": "code",
      "source": [
        "grid.fit(train_X[logistic_features], train_y)"
      ],
      "execution_count": 45,
      "outputs": [
        {
          "output_type": "execute_result",
          "data": {
            "text/plain": [
              "GridSearchCV(cv=StratifiedShuffleSplit(n_splits=5, random_state=42, test_size=0.2,\n",
              "            train_size=None),\n",
              "       error_score='raise-deprecating',\n",
              "       estimator=SVC(C=200, cache_size=200, class_weight=None, coef0=0.0,\n",
              "  decision_function_shape='ovr', degree=3, gamma='auto_deprecated',\n",
              "  kernel='linear', max_iter=-1, probability=False, random_state=None,\n",
              "  shrinking=True, tol=0.001, verbose=False),\n",
              "       fit_params=None, iid='warn', n_jobs=None,\n",
              "       param_grid={'C': array([180.     , 181.21212, ..., 298.78788, 300.     ])},\n",
              "       pre_dispatch='2*n_jobs', refit=True, return_train_score='warn',\n",
              "       scoring=None, verbose=0)"
            ]
          },
          "metadata": {
            "tags": []
          },
          "execution_count": 45
        }
      ]
    },
    {
      "metadata": {
        "id": "oH4UbVYe5QXc",
        "colab_type": "code",
        "outputId": "7b8bb886-f359-4a30-b342-a70628fec2fa",
        "colab": {
          "base_uri": "https://localhost:8080/",
          "height": 85
        }
      },
      "cell_type": "code",
      "source": [
        "grid.best_estimator_"
      ],
      "execution_count": 46,
      "outputs": [
        {
          "output_type": "execute_result",
          "data": {
            "text/plain": [
              "SVC(C=180.0, cache_size=200, class_weight=None, coef0=0.0,\n",
              "  decision_function_shape='ovr', degree=3, gamma='auto_deprecated',\n",
              "  kernel='linear', max_iter=-1, probability=False, random_state=None,\n",
              "  shrinking=True, tol=0.001, verbose=False)"
            ]
          },
          "metadata": {
            "tags": []
          },
          "execution_count": 46
        }
      ]
    },
    {
      "metadata": {
        "id": "NSdawgQM5QXd",
        "colab_type": "code",
        "colab": {}
      },
      "cell_type": "code",
      "source": [
        "pred_y = grid.predict(test_X[logistic_features])"
      ],
      "execution_count": 0,
      "outputs": []
    },
    {
      "metadata": {
        "id": "Ve5xe1SE5QXe",
        "colab_type": "code",
        "outputId": "28c4d32d-125c-4fdb-b7de-0597d987d45e",
        "colab": {
          "base_uri": "https://localhost:8080/",
          "height": 34
        }
      },
      "cell_type": "code",
      "source": [
        "print('Accuracy of linear SVM classifier on test set: {:.2f}'.format(grid.score(test_X[logistic_features], test_y)))"
      ],
      "execution_count": 48,
      "outputs": [
        {
          "output_type": "stream",
          "text": [
            "Accuracy of linear SVM classifier on test set: 0.33\n"
          ],
          "name": "stdout"
        }
      ]
    },
    {
      "metadata": {
        "id": "vhPlyJ0w5QXf",
        "colab_type": "code",
        "outputId": "d1b61ed5-4d16-408b-f277-6530f47b4eae",
        "colab": {
          "base_uri": "https://localhost:8080/",
          "height": 68
        }
      },
      "cell_type": "code",
      "source": [
        "confusion_mat = confusion_matrix(test_y, pred_y)\n",
        "print(confusion_mat)"
      ],
      "execution_count": 49,
      "outputs": [
        {
          "output_type": "stream",
          "text": [
            "[[1 4 1]\n",
            " [2 4 2]\n",
            " [2 3 2]]\n"
          ],
          "name": "stdout"
        }
      ]
    },
    {
      "metadata": {
        "id": "hO1ziX3f5QXh",
        "colab_type": "code",
        "outputId": "71d3e764-02fe-4cb9-8d25-e940c39a8790",
        "colab": {
          "base_uri": "https://localhost:8080/",
          "height": 68
        }
      },
      "cell_type": "code",
      "source": [
        "test_y.index"
      ],
      "execution_count": 50,
      "outputs": [
        {
          "output_type": "execute_result",
          "data": {
            "text/plain": [
              "Int64Index([200, 188, 120,  32, 128, 133, 247, 194,  85,  11, 265, 179, 148,\n",
              "            297,  28, 101, 193, 150, 117, 261, 243],\n",
              "           dtype='int64')"
            ]
          },
          "metadata": {
            "tags": []
          },
          "execution_count": 50
        }
      ]
    },
    {
      "metadata": {
        "id": "xZalAc_o5QXj",
        "colab_type": "code",
        "colab": {}
      },
      "cell_type": "code",
      "source": [
        "#pred_y ==1 and test_y == 1 and pred_y==test_y"
      ],
      "execution_count": 0,
      "outputs": []
    },
    {
      "metadata": {
        "id": "rVjCy0hy5QXt",
        "colab_type": "text"
      },
      "cell_type": "markdown",
      "source": [
        "## try SVM with rbf kernel"
      ]
    },
    {
      "metadata": {
        "id": "YhiZtxLS5QXt",
        "colab_type": "code",
        "colab": {}
      },
      "cell_type": "code",
      "source": [
        "svmrbf = SVC(gamma=2, C=1)"
      ],
      "execution_count": 0,
      "outputs": []
    },
    {
      "metadata": {
        "id": "DhA5QMWH5QXu",
        "colab_type": "text"
      },
      "cell_type": "markdown",
      "source": [
        "perform grid search "
      ]
    },
    {
      "metadata": {
        "id": "RjieAAIh5QXu",
        "colab_type": "code",
        "colab": {}
      },
      "cell_type": "code",
      "source": [
        "from sklearn.model_selection import GridSearchCV\n",
        "from sklearn.model_selection import StratifiedShuffleSplit\n",
        "C_range = np.linspace(20,22, 20)\n",
        "gamma_range = np.linspace(0.2, 0.3, 20)\n",
        "param_grid = dict(gamma=gamma_range, C=C_range)\n",
        "cv = StratifiedShuffleSplit(n_splits=5, test_size=0.2, random_state=42)\n",
        "grid = GridSearchCV(svmrbf, param_grid=param_grid, cv=cv)"
      ],
      "execution_count": 0,
      "outputs": []
    },
    {
      "metadata": {
        "id": "JJUofvWu5QXw",
        "colab_type": "code",
        "outputId": "44482aa8-3f04-42bf-9e37-6ff3bb3cec93",
        "colab": {
          "base_uri": "https://localhost:8080/",
          "height": 289
        }
      },
      "cell_type": "code",
      "source": [
        "grid.fit(train_X, train_y)"
      ],
      "execution_count": 55,
      "outputs": [
        {
          "output_type": "execute_result",
          "data": {
            "text/plain": [
              "GridSearchCV(cv=StratifiedShuffleSplit(n_splits=5, random_state=42, test_size=0.2,\n",
              "            train_size=None),\n",
              "       error_score='raise-deprecating',\n",
              "       estimator=SVC(C=1, cache_size=200, class_weight=None, coef0=0.0,\n",
              "  decision_function_shape='ovr', degree=3, gamma=2, kernel='rbf',\n",
              "  max_iter=-1, probability=False, random_state=None, shrinking=True,\n",
              "  tol=0.001, verbose=False),\n",
              "       fit_params=None, iid='warn', n_jobs=None,\n",
              "       param_grid={'gamma': array([0.2    , 0.20526, 0.21053, 0.21579, 0.22105, 0.22632, 0.23158,\n",
              "       0.23684, 0.24211, 0.24737, 0.25263, 0.25789, 0.26316, 0.26842,\n",
              "       0.27368, 0.27895, 0.28421, 0.28947, 0.29474, 0.3    ]), 'C': array([20.     , 20.10526, 20.21053, 20.31579, 20.42105, 20.52632,\n",
              "       20.63158, 20.73684, 20.84211, 20.94737, 21.05263, 21.15789,\n",
              "       21.26316, 21.36842, 21.47368, 21.57895, 21.68421, 21.78947,\n",
              "       21.89474, 22.     ])},\n",
              "       pre_dispatch='2*n_jobs', refit=True, return_train_score='warn',\n",
              "       scoring=None, verbose=0)"
            ]
          },
          "metadata": {
            "tags": []
          },
          "execution_count": 55
        }
      ]
    },
    {
      "metadata": {
        "id": "pbEtAAVi5QXx",
        "colab_type": "code",
        "outputId": "6b63858f-6870-4891-ed14-e926edcc62fb",
        "colab": {
          "base_uri": "https://localhost:8080/",
          "height": 85
        }
      },
      "cell_type": "code",
      "source": [
        "grid.best_estimator_"
      ],
      "execution_count": 56,
      "outputs": [
        {
          "output_type": "execute_result",
          "data": {
            "text/plain": [
              "SVC(C=20.0, cache_size=200, class_weight=None, coef0=0.0,\n",
              "  decision_function_shape='ovr', degree=3, gamma=0.2, kernel='rbf',\n",
              "  max_iter=-1, probability=False, random_state=None, shrinking=True,\n",
              "  tol=0.001, verbose=False)"
            ]
          },
          "metadata": {
            "tags": []
          },
          "execution_count": 56
        }
      ]
    },
    {
      "metadata": {
        "id": "7mpVi3MG5QXz",
        "colab_type": "code",
        "colab": {}
      },
      "cell_type": "code",
      "source": [
        "pred_y = grid.predict(test_X)"
      ],
      "execution_count": 0,
      "outputs": []
    },
    {
      "metadata": {
        "id": "0li0uZJQ5QX0",
        "colab_type": "code",
        "outputId": "d2720244-06e9-4949-837d-58e01696e1e4",
        "colab": {
          "base_uri": "https://localhost:8080/",
          "height": 34
        }
      },
      "cell_type": "code",
      "source": [
        "print('Accuracy of rbf SVM classifier on test set: {:.2f}'.format(grid.score(test_X, test_y)))"
      ],
      "execution_count": 58,
      "outputs": [
        {
          "output_type": "stream",
          "text": [
            "Accuracy of rbf SVM classifier on test set: 0.43\n"
          ],
          "name": "stdout"
        }
      ]
    },
    {
      "metadata": {
        "id": "KwHDL-A_5QX2",
        "colab_type": "code",
        "outputId": "35dde1ad-d9a3-4893-fa47-e8ec7545de2a",
        "colab": {
          "base_uri": "https://localhost:8080/",
          "height": 68
        }
      },
      "cell_type": "code",
      "source": [
        "confusion_mat = confusion_matrix(test_y, pred_y)\n",
        "print(confusion_mat)"
      ],
      "execution_count": 59,
      "outputs": [
        {
          "output_type": "stream",
          "text": [
            "[[3 2 1]\n",
            " [1 5 2]\n",
            " [3 3 1]]\n"
          ],
          "name": "stdout"
        }
      ]
    },
    {
      "metadata": {
        "id": "u7iKjmzk5QX4",
        "colab_type": "text"
      },
      "cell_type": "markdown",
      "source": [
        "## try with logit features"
      ]
    },
    {
      "metadata": {
        "id": "IDiHRkjB5QX4",
        "colab_type": "code",
        "colab": {}
      },
      "cell_type": "code",
      "source": [
        "svmrbf = SVC()"
      ],
      "execution_count": 0,
      "outputs": []
    },
    {
      "metadata": {
        "id": "G-K5b8Ac5QX5",
        "colab_type": "code",
        "colab": {}
      },
      "cell_type": "code",
      "source": [
        "from sklearn.model_selection import GridSearchCV\n",
        "from sklearn.model_selection import StratifiedShuffleSplit\n",
        "C_range = np.linspace(5, 15, 20)\n",
        "gamma_range = np.linspace(0, 1, 20)\n",
        "param_grid = dict(gamma=gamma_range, C=C_range)\n",
        "cv = StratifiedShuffleSplit(n_splits=5, test_size=0.2, random_state=42)\n",
        "grid = GridSearchCV(svmrbf, param_grid=param_grid, cv=cv)"
      ],
      "execution_count": 0,
      "outputs": []
    },
    {
      "metadata": {
        "id": "WPiM2AUy5QX6",
        "colab_type": "code",
        "outputId": "745b34a8-924e-4a8a-e994-043cf8402690",
        "colab": {
          "base_uri": "https://localhost:8080/",
          "height": 289
        }
      },
      "cell_type": "code",
      "source": [
        "grid.fit(train_X[logistic_features], train_y)"
      ],
      "execution_count": 62,
      "outputs": [
        {
          "output_type": "execute_result",
          "data": {
            "text/plain": [
              "GridSearchCV(cv=StratifiedShuffleSplit(n_splits=5, random_state=42, test_size=0.2,\n",
              "            train_size=None),\n",
              "       error_score='raise-deprecating',\n",
              "       estimator=SVC(C=1.0, cache_size=200, class_weight=None, coef0=0.0,\n",
              "  decision_function_shape='ovr', degree=3, gamma='auto_deprecated',\n",
              "  kernel='rbf', max_iter=-1, probability=False, random_state=None,\n",
              "  shrinking=True, tol=0.001, verbose=False),\n",
              "       fit_params=None, iid='warn', n_jobs=None,\n",
              "       param_grid={'gamma': array([0.     , 0.05263, 0.10526, 0.15789, 0.21053, 0.26316, 0.31579,\n",
              "       0.36842, 0.42105, 0.47368, 0.52632, 0.57895, 0.63158, 0.68421,\n",
              "       0.73684, 0.78947, 0.84211, 0.89474, 0.94737, 1.     ]), 'C': array([ 5.     ,  5.52632,  6.05263,  6.57895,  7.10526,  7.63158,\n",
              "        8.15789,  8.68421,  9.21053,  9.73684, 10.26316, 10.78947,\n",
              "       11.31579, 11.84211, 12.36842, 12.89474, 13.42105, 13.94737,\n",
              "       14.47368, 15.     ])},\n",
              "       pre_dispatch='2*n_jobs', refit=True, return_train_score='warn',\n",
              "       scoring=None, verbose=0)"
            ]
          },
          "metadata": {
            "tags": []
          },
          "execution_count": 62
        }
      ]
    },
    {
      "metadata": {
        "id": "XidA1Iar5QX8",
        "colab_type": "code",
        "outputId": "15bc4f54-20eb-4edc-decc-9e059c695124",
        "colab": {
          "base_uri": "https://localhost:8080/",
          "height": 85
        }
      },
      "cell_type": "code",
      "source": [
        "grid.best_estimator_"
      ],
      "execution_count": 63,
      "outputs": [
        {
          "output_type": "execute_result",
          "data": {
            "text/plain": [
              "SVC(C=9.210526315789473, cache_size=200, class_weight=None, coef0=0.0,\n",
              "  decision_function_shape='ovr', degree=3, gamma=0.3157894736842105,\n",
              "  kernel='rbf', max_iter=-1, probability=False, random_state=None,\n",
              "  shrinking=True, tol=0.001, verbose=False)"
            ]
          },
          "metadata": {
            "tags": []
          },
          "execution_count": 63
        }
      ]
    },
    {
      "metadata": {
        "id": "yOUZA1dy5QX9",
        "colab_type": "code",
        "colab": {}
      },
      "cell_type": "code",
      "source": [
        "pred_y = grid.predict(test_X[logistic_features])"
      ],
      "execution_count": 0,
      "outputs": []
    },
    {
      "metadata": {
        "id": "n1JqypL85QX-",
        "colab_type": "code",
        "outputId": "eafa948c-a38e-417e-ad6d-d406bb2ecd15",
        "colab": {
          "base_uri": "https://localhost:8080/",
          "height": 34
        }
      },
      "cell_type": "code",
      "source": [
        "print('Accuracy of linear svm classifier on test set: {:.2f}'.format(grid.score(test_X[logistic_features], test_y)))"
      ],
      "execution_count": 65,
      "outputs": [
        {
          "output_type": "stream",
          "text": [
            "Accuracy of linear svm classifier on test set: 0.43\n"
          ],
          "name": "stdout"
        }
      ]
    },
    {
      "metadata": {
        "id": "gHysLoEw5QX_",
        "colab_type": "code",
        "outputId": "0472eef6-50d1-4de5-bf36-276a2ae0eb55",
        "colab": {
          "base_uri": "https://localhost:8080/",
          "height": 68
        }
      },
      "cell_type": "code",
      "source": [
        "confusion_mat = confusion_matrix(test_y, pred_y)\n",
        "print(confusion_mat)"
      ],
      "execution_count": 66,
      "outputs": [
        {
          "output_type": "stream",
          "text": [
            "[[2 3 1]\n",
            " [1 5 2]\n",
            " [2 3 2]]\n"
          ],
          "name": "stdout"
        }
      ]
    },
    {
      "metadata": {
        "id": "w-Jj0KLC5QYB",
        "colab_type": "text"
      },
      "cell_type": "markdown",
      "source": [
        "## trying out PCA"
      ]
    },
    {
      "metadata": {
        "id": "IBRtlF-15QYB",
        "colab_type": "code",
        "colab": {}
      },
      "cell_type": "code",
      "source": [
        "pca = PCA()"
      ],
      "execution_count": 0,
      "outputs": []
    },
    {
      "metadata": {
        "id": "eITIxk3J5QYC",
        "colab_type": "code",
        "outputId": "b9d9b625-1411-4c91-88bb-ea61d7286de0",
        "colab": {
          "base_uri": "https://localhost:8080/",
          "height": 51
        }
      },
      "cell_type": "code",
      "source": [
        "pca.fit(train_X)"
      ],
      "execution_count": 68,
      "outputs": [
        {
          "output_type": "execute_result",
          "data": {
            "text/plain": [
              "PCA(copy=True, iterated_power='auto', n_components=None, random_state=None,\n",
              "  svd_solver='auto', tol=0.0, whiten=False)"
            ]
          },
          "metadata": {
            "tags": []
          },
          "execution_count": 68
        }
      ]
    },
    {
      "metadata": {
        "id": "DYgUfaFw5QYE",
        "colab_type": "code",
        "outputId": "74918101-0b40-434c-ea20-cc53ad5e8eec",
        "colab": {
          "base_uri": "https://localhost:8080/",
          "height": 34
        }
      },
      "cell_type": "code",
      "source": [
        "(pca.explained_variance_ratio_ > 0.007).sum()\n",
        "# if variance explained is more than 1/128 then the vector is considered"
      ],
      "execution_count": 69,
      "outputs": [
        {
          "output_type": "execute_result",
          "data": {
            "text/plain": [
              "16"
            ]
          },
          "metadata": {
            "tags": []
          },
          "execution_count": 69
        }
      ]
    },
    {
      "metadata": {
        "id": "Gp04uslo5QYF",
        "colab_type": "code",
        "colab": {}
      },
      "cell_type": "code",
      "source": [
        "pca = PCA(n_components=17)"
      ],
      "execution_count": 0,
      "outputs": []
    },
    {
      "metadata": {
        "id": "_S-m8Dfy5QYF",
        "colab_type": "code",
        "outputId": "870a0e92-fb00-40bd-d374-36bde93ff244",
        "colab": {
          "base_uri": "https://localhost:8080/",
          "height": 51
        }
      },
      "cell_type": "code",
      "source": [
        "pca.fit(train_X)"
      ],
      "execution_count": 71,
      "outputs": [
        {
          "output_type": "execute_result",
          "data": {
            "text/plain": [
              "PCA(copy=True, iterated_power='auto', n_components=17, random_state=None,\n",
              "  svd_solver='auto', tol=0.0, whiten=False)"
            ]
          },
          "metadata": {
            "tags": []
          },
          "execution_count": 71
        }
      ]
    },
    {
      "metadata": {
        "id": "uZZIurlT5QYH",
        "colab_type": "code",
        "outputId": "c7d2c496-0b81-49f0-fee6-23a1cb9655ec",
        "colab": {
          "base_uri": "https://localhost:8080/",
          "height": 85
        }
      },
      "cell_type": "code",
      "source": [
        "pca.explained_variance_ratio_"
      ],
      "execution_count": 72,
      "outputs": [
        {
          "output_type": "execute_result",
          "data": {
            "text/plain": [
              "array([0.45285683, 0.10266738, 0.08084848, 0.07211124, 0.03973495,\n",
              "       0.03093003, 0.02805274, 0.0257064 , 0.02054793, 0.01878964,\n",
              "       0.0145652 , 0.01302614, 0.01227125, 0.010145  , 0.00967882,\n",
              "       0.00853289, 0.00686901])"
            ]
          },
          "metadata": {
            "tags": []
          },
          "execution_count": 72
        }
      ]
    },
    {
      "metadata": {
        "id": "zBn6rsWL5QYJ",
        "colab_type": "code",
        "colab": {}
      },
      "cell_type": "code",
      "source": [
        "train_t_X = pca.transform(train_X)"
      ],
      "execution_count": 0,
      "outputs": []
    },
    {
      "metadata": {
        "id": "50Z-6hzd5QYK",
        "colab_type": "code",
        "colab": {}
      },
      "cell_type": "code",
      "source": [
        "test_t_X = pca.transform(test_X)"
      ],
      "execution_count": 0,
      "outputs": []
    },
    {
      "metadata": {
        "id": "u3zJ-Id55QYK",
        "colab_type": "code",
        "outputId": "e8fb24fd-4a32-4f7e-8834-0ffcbdbe4297",
        "colab": {
          "base_uri": "https://localhost:8080/",
          "height": 34
        }
      },
      "cell_type": "code",
      "source": [
        "train_t_X.shape"
      ],
      "execution_count": 75,
      "outputs": [
        {
          "output_type": "execute_result",
          "data": {
            "text/plain": [
              "(63, 17)"
            ]
          },
          "metadata": {
            "tags": []
          },
          "execution_count": 75
        }
      ]
    },
    {
      "metadata": {
        "id": "AXE2-2zH5QYM",
        "colab_type": "code",
        "colab": {}
      },
      "cell_type": "code",
      "source": [
        "from sklearn.model_selection import GridSearchCV\n",
        "from sklearn.model_selection import StratifiedShuffleSplit\n",
        "svmLinear = SVC(kernel=\"linear\", C=200)\n",
        "C_range = np.linspace(850,1250, 10)\n",
        "param_grid = dict(C=C_range)\n",
        "cv = StratifiedShuffleSplit(n_splits=5, test_size=0.2, random_state=42)\n",
        "grid = GridSearchCV(svmLinear, param_grid=param_grid, cv=cv)"
      ],
      "execution_count": 0,
      "outputs": []
    },
    {
      "metadata": {
        "id": "AqFPMTRC5QYM",
        "colab_type": "code",
        "outputId": "91ac546c-2a7b-4d3e-d470-3978e560dd35",
        "colab": {
          "base_uri": "https://localhost:8080/",
          "height": 221
        }
      },
      "cell_type": "code",
      "source": [
        "grid.fit(train_t_X, train_y)"
      ],
      "execution_count": 77,
      "outputs": [
        {
          "output_type": "execute_result",
          "data": {
            "text/plain": [
              "GridSearchCV(cv=StratifiedShuffleSplit(n_splits=5, random_state=42, test_size=0.2,\n",
              "            train_size=None),\n",
              "       error_score='raise-deprecating',\n",
              "       estimator=SVC(C=200, cache_size=200, class_weight=None, coef0=0.0,\n",
              "  decision_function_shape='ovr', degree=3, gamma='auto_deprecated',\n",
              "  kernel='linear', max_iter=-1, probability=False, random_state=None,\n",
              "  shrinking=True, tol=0.001, verbose=False),\n",
              "       fit_params=None, iid='warn', n_jobs=None,\n",
              "       param_grid={'C': array([ 850.     ,  894.44444,  938.88889,  983.33333, 1027.77778,\n",
              "       1072.22222, 1116.66667, 1161.11111, 1205.55556, 1250.     ])},\n",
              "       pre_dispatch='2*n_jobs', refit=True, return_train_score='warn',\n",
              "       scoring=None, verbose=0)"
            ]
          },
          "metadata": {
            "tags": []
          },
          "execution_count": 77
        }
      ]
    },
    {
      "metadata": {
        "id": "Re20SmaB5QYO",
        "colab_type": "code",
        "outputId": "2c5e3e5e-b2e9-4c46-b9c8-73f5b301a736",
        "colab": {
          "base_uri": "https://localhost:8080/",
          "height": 85
        }
      },
      "cell_type": "code",
      "source": [
        "grid.best_estimator_"
      ],
      "execution_count": 78,
      "outputs": [
        {
          "output_type": "execute_result",
          "data": {
            "text/plain": [
              "SVC(C=850.0, cache_size=200, class_weight=None, coef0=0.0,\n",
              "  decision_function_shape='ovr', degree=3, gamma='auto_deprecated',\n",
              "  kernel='linear', max_iter=-1, probability=False, random_state=None,\n",
              "  shrinking=True, tol=0.001, verbose=False)"
            ]
          },
          "metadata": {
            "tags": []
          },
          "execution_count": 78
        }
      ]
    },
    {
      "metadata": {
        "id": "AEBnO9BE5QYP",
        "colab_type": "code",
        "colab": {}
      },
      "cell_type": "code",
      "source": [
        "pred_y = grid.predict(test_t_X)"
      ],
      "execution_count": 0,
      "outputs": []
    },
    {
      "metadata": {
        "id": "1BvT4CI55QYQ",
        "colab_type": "code",
        "outputId": "712bfcf3-492d-42d6-e8d0-b01c832034d5",
        "colab": {
          "base_uri": "https://localhost:8080/",
          "height": 34
        }
      },
      "cell_type": "code",
      "source": [
        "print('Accuracy of linear svm classifier on test set: {:.2f}'.format(grid.score(test_t_X, test_y)))"
      ],
      "execution_count": 80,
      "outputs": [
        {
          "output_type": "stream",
          "text": [
            "Accuracy of linear svm classifier on test set: 0.24\n"
          ],
          "name": "stdout"
        }
      ]
    },
    {
      "metadata": {
        "id": "7ldh20MO5QYR",
        "colab_type": "code",
        "outputId": "d88ed8d5-39de-4478-ad14-aa736452eadd",
        "colab": {
          "base_uri": "https://localhost:8080/",
          "height": 68
        }
      },
      "cell_type": "code",
      "source": [
        "confusion_mat = confusion_matrix(test_y, pred_y)\n",
        "print(confusion_mat)"
      ],
      "execution_count": 81,
      "outputs": [
        {
          "output_type": "stream",
          "text": [
            "[[2 3 1]\n",
            " [3 2 3]\n",
            " [2 4 1]]\n"
          ],
          "name": "stdout"
        }
      ]
    },
    {
      "metadata": {
        "id": "stKrVdzK5QYS",
        "colab_type": "text"
      },
      "cell_type": "markdown",
      "source": [
        "# trying KNN with PCA"
      ]
    },
    {
      "metadata": {
        "id": "1U3CH0nZ5QYS",
        "colab_type": "code",
        "colab": {}
      },
      "cell_type": "code",
      "source": [
        "neigh = KNeighborsClassifier(n_neighbors=3)"
      ],
      "execution_count": 0,
      "outputs": []
    },
    {
      "metadata": {
        "id": "KrS20hZC5QYT",
        "colab_type": "code",
        "outputId": "4168dc0e-8d95-4dcf-8f00-162d0e7bf841",
        "colab": {
          "base_uri": "https://localhost:8080/",
          "height": 102
        }
      },
      "cell_type": "code",
      "source": [
        "K_range = np.linspace(1,50, 100,dtype=int)\n",
        "print(K_range)\n",
        "param_grid = dict(n_neighbors=K_range)\n",
        "cv = StratifiedShuffleSplit(n_splits=5, test_size=0.2, random_state=42)\n",
        "grid = GridSearchCV(neigh, param_grid=param_grid, cv=cv)"
      ],
      "execution_count": 83,
      "outputs": [
        {
          "output_type": "stream",
          "text": [
            "[ 1  1  1  2  2  3  3  4  4  5  5  6  6  7  7  8  8  9  9 10 10 11 11 12\n",
            " 12 13 13 14 14 15 15 16 16 17 17 18 18 19 19 20 20 21 21 22 22 23 23 24\n",
            " 24 25 25 26 26 27 27 28 28 29 29 30 30 31 31 32 32 33 33 34 34 35 35 36\n",
            " 36 37 37 38 38 39 39 40 40 41 41 42 42 43 43 44 44 45 45 46 46 47 47 48\n",
            " 48 49 49 50]\n"
          ],
          "name": "stdout"
        }
      ]
    },
    {
      "metadata": {
        "id": "_mJRqctw5QYU",
        "colab_type": "code",
        "outputId": "ed720f78-673c-485e-9d09-60f21e38dd91",
        "colab": {
          "base_uri": "https://localhost:8080/",
          "height": 187
        }
      },
      "cell_type": "code",
      "source": [
        "grid.fit(train_t_X,train_y)"
      ],
      "execution_count": 84,
      "outputs": [
        {
          "output_type": "execute_result",
          "data": {
            "text/plain": [
              "GridSearchCV(cv=StratifiedShuffleSplit(n_splits=5, random_state=42, test_size=0.2,\n",
              "            train_size=None),\n",
              "       error_score='raise-deprecating',\n",
              "       estimator=KNeighborsClassifier(algorithm='auto', leaf_size=30, metric='minkowski',\n",
              "           metric_params=None, n_jobs=None, n_neighbors=3, p=2,\n",
              "           weights='uniform'),\n",
              "       fit_params=None, iid='warn', n_jobs=None,\n",
              "       param_grid={'n_neighbors': array([ 1,  1, ..., 49, 50])},\n",
              "       pre_dispatch='2*n_jobs', refit=True, return_train_score='warn',\n",
              "       scoring=None, verbose=0)"
            ]
          },
          "metadata": {
            "tags": []
          },
          "execution_count": 84
        }
      ]
    },
    {
      "metadata": {
        "id": "wW6lHEoq5QYV",
        "colab_type": "code",
        "outputId": "ea646153-85f1-46ee-d916-eadcd1c1ba4e",
        "colab": {
          "base_uri": "https://localhost:8080/",
          "height": 68
        }
      },
      "cell_type": "code",
      "source": [
        "grid.best_estimator_"
      ],
      "execution_count": 85,
      "outputs": [
        {
          "output_type": "execute_result",
          "data": {
            "text/plain": [
              "KNeighborsClassifier(algorithm='auto', leaf_size=30, metric='minkowski',\n",
              "           metric_params=None, n_jobs=None, n_neighbors=1, p=2,\n",
              "           weights='uniform')"
            ]
          },
          "metadata": {
            "tags": []
          },
          "execution_count": 85
        }
      ]
    },
    {
      "metadata": {
        "id": "xqw3F2B75QYX",
        "colab_type": "code",
        "colab": {}
      },
      "cell_type": "code",
      "source": [
        "pred_y = grid.predict(test_t_X)"
      ],
      "execution_count": 0,
      "outputs": []
    },
    {
      "metadata": {
        "id": "WDfnrL9g5QYX",
        "colab_type": "code",
        "outputId": "553ab474-bf6d-4fee-b778-97bec3f46c15",
        "colab": {
          "base_uri": "https://localhost:8080/",
          "height": 34
        }
      },
      "cell_type": "code",
      "source": [
        "print('Accuracy of linear svm classifier on test set: {:.2f}'.format(grid.score(test_t_X, test_y)))"
      ],
      "execution_count": 87,
      "outputs": [
        {
          "output_type": "stream",
          "text": [
            "Accuracy of linear svm classifier on test set: 0.33\n"
          ],
          "name": "stdout"
        }
      ]
    },
    {
      "metadata": {
        "id": "vsqeDRfM5QYZ",
        "colab_type": "code",
        "outputId": "bf24be6f-5ddd-4e51-a658-a9941c4aa8a4",
        "colab": {
          "base_uri": "https://localhost:8080/",
          "height": 68
        }
      },
      "cell_type": "code",
      "source": [
        "confusion_mat = confusion_matrix(test_y, pred_y)\n",
        "print(confusion_mat)"
      ],
      "execution_count": 88,
      "outputs": [
        {
          "output_type": "stream",
          "text": [
            "[[4 2 0]\n",
            " [4 2 2]\n",
            " [2 4 1]]\n"
          ],
          "name": "stdout"
        }
      ]
    },
    {
      "metadata": {
        "id": "ich7AfS55QYa",
        "colab_type": "text"
      },
      "cell_type": "markdown",
      "source": [
        "## explore the features with incorrect prediction"
      ]
    },
    {
      "metadata": {
        "id": "uUJrzKWO5QYa",
        "colab_type": "code",
        "colab": {}
      },
      "cell_type": "code",
      "source": [
        "gesture_vectors = test_X[correct_gestures_index][logistic_features]"
      ],
      "execution_count": 0,
      "outputs": []
    },
    {
      "metadata": {
        "id": "O_ZqhYXE5QYb",
        "colab_type": "code",
        "colab": {}
      },
      "cell_type": "code",
      "source": [
        "gesture_vectors"
      ],
      "execution_count": 0,
      "outputs": []
    },
    {
      "metadata": {
        "id": "DeI4VOz85QYd",
        "colab_type": "code",
        "colab": {}
      },
      "cell_type": "code",
      "source": [
        "scipy.spatial.distance.cosine(gesture_vectors.loc[200,:],gesture_vectors.loc[247,:])"
      ],
      "execution_count": 0,
      "outputs": []
    },
    {
      "metadata": {
        "id": "ZMyCik0A5QYe",
        "colab_type": "code",
        "colab": {}
      },
      "cell_type": "code",
      "source": [
        "average_detected_gesture = gesture_vectors.sum()"
      ],
      "execution_count": 0,
      "outputs": []
    },
    {
      "metadata": {
        "id": "HPTkRkzv5QYf",
        "colab_type": "code",
        "colab": {}
      },
      "cell_type": "code",
      "source": [
        "scipy.spatial.distance.cosine(gesture_vectors.loc[200,:],average_detected_gesture)"
      ],
      "execution_count": 0,
      "outputs": []
    },
    {
      "metadata": {
        "id": "yMcyCK8r5QYh",
        "colab_type": "code",
        "colab": {}
      },
      "cell_type": "code",
      "source": [
        "df_8m = pd.DataFrame(columns=[\"video_id\",\"start_second\"]+list(features))"
      ],
      "execution_count": 0,
      "outputs": []
    },
    {
      "metadata": {
        "id": "9p4NMFNf5QYi",
        "colab_type": "code",
        "colab": {}
      },
      "cell_type": "code",
      "source": [
        "import glob, os\n",
        "for file in glob.glob(\"youtube8m/*.wav\"):\n",
        "    sr, wav_data = wavfile.read(file)\n",
        "    assert wav_data.dtype == np.int16, 'Bad sample type: %r' % wav_data.dtype\n",
        "    samples = wav_data / 32768.0  # Convert to [-1.0, +1.0]\n",
        "    values = ProcessWithVGGish(vgg,samples,sr,1)\n",
        "    \n",
        "    temp_df = pd.DataFrame(values,columns=features)\n",
        "    temp_df['video_id'] = file[10:-4]\n",
        "    temp_df = temp_df.reset_index().rename(columns={'index':'start_second'})\n",
        "    df_8m = pd.concat([df_8m,temp_df[df_8m.columns]],axis=0).reset_index(drop=True)"
      ],
      "execution_count": 0,
      "outputs": []
    },
    {
      "metadata": {
        "id": "FC5gsEhl5QYj",
        "colab_type": "code",
        "colab": {}
      },
      "cell_type": "code",
      "source": [
        "df_8m.tail()"
      ],
      "execution_count": 0,
      "outputs": []
    },
    {
      "metadata": {
        "id": "eOWiCYAF5QYk",
        "colab_type": "code",
        "colab": {}
      },
      "cell_type": "code",
      "source": [
        ""
      ],
      "execution_count": 0,
      "outputs": []
    },
    {
      "metadata": {
        "id": "MY9PErZk5QYl",
        "colab_type": "code",
        "colab": {}
      },
      "cell_type": "code",
      "source": [
        "df_8m.shape"
      ],
      "execution_count": 0,
      "outputs": []
    },
    {
      "metadata": {
        "id": "KoROef3p5QYm",
        "colab_type": "code",
        "colab": {}
      },
      "cell_type": "code",
      "source": [
        "df_8m_log = df_8m[logistic_features]"
      ],
      "execution_count": 0,
      "outputs": []
    },
    {
      "metadata": {
        "id": "Jylcdzh95QYn",
        "colab_type": "code",
        "colab": {}
      },
      "cell_type": "code",
      "source": [
        "yt8m_rows_selected = []\n",
        "yt8m_rows_selected_cosine = []"
      ],
      "execution_count": 0,
      "outputs": []
    },
    {
      "metadata": {
        "id": "4QiXOoUA5QYo",
        "colab_type": "code",
        "colab": {}
      },
      "cell_type": "code",
      "source": [
        "df_8m_log.loc[1,:]"
      ],
      "execution_count": 0,
      "outputs": []
    },
    {
      "metadata": {
        "id": "K8nu25Fd5QYp",
        "colab_type": "code",
        "colab": {}
      },
      "cell_type": "code",
      "source": [
        "for i in df_8m_log.index:\n",
        "    cosin_dist = scipy.spatial.distance.cosine(df_8m_log.loc[i,:],average_detected_gesture)\n",
        "    if cosin_dist >= 0.1:\n",
        "        yt8m_rows_selected.append(i)\n",
        "        yt8m_rows_selected_cosine.append(cosin_dist)"
      ],
      "execution_count": 0,
      "outputs": []
    },
    {
      "metadata": {
        "id": "JyH_COHh5QYq",
        "colab_type": "code",
        "colab": {}
      },
      "cell_type": "code",
      "source": [
        "yt8m_rows_selected = np.array(yt8m_rows_selected)"
      ],
      "execution_count": 0,
      "outputs": []
    },
    {
      "metadata": {
        "id": "jbv22neN5QYr",
        "colab_type": "code",
        "colab": {}
      },
      "cell_type": "code",
      "source": [
        "yt8m_rows_selected_sorted = yt8m_rows_selected[np.argsort(yt8m_rows_selected_cosine)]"
      ],
      "execution_count": 0,
      "outputs": []
    },
    {
      "metadata": {
        "id": "pjMM5RJn5QYs",
        "colab_type": "code",
        "colab": {}
      },
      "cell_type": "code",
      "source": [
        "df_8m_top = df_8m.loc[yt8m_rows_selected_sorted,:]"
      ],
      "execution_count": 0,
      "outputs": []
    },
    {
      "metadata": {
        "id": "2euQubxz5QYs",
        "colab_type": "code",
        "colab": {}
      },
      "cell_type": "code",
      "source": [
        "df_8m_top.shape"
      ],
      "execution_count": 0,
      "outputs": []
    },
    {
      "metadata": {
        "scrolled": true,
        "id": "Ab_tHF1m5QYu",
        "colab_type": "code",
        "colab": {}
      },
      "cell_type": "code",
      "source": [
        "rank = 1\n",
        "for i in df_8m_top.index:\n",
        "    vidId = df_8m_top.loc[i,\"video_id\"]\n",
        "    print(vidId)\n",
        "    start_second = df_8m_top.loc[i,\"start_second\"]\n",
        "    a = os.system(\"ffmpeg -ss {} -t {} -i {} {}\".format(start_second,1,\"youtube8m/\"+vidId+\".wav\",\"yt8m_similar/\"+\"{0:03}\".format(rank)+vidId+str(start_second)+\".wav\"))\n",
        "    print(\"{0:03}\".format(rank)+vidId+str(start_second)+\".wav\")\n",
        "    rank += 1"
      ],
      "execution_count": 0,
      "outputs": []
    },
    {
      "metadata": {
        "id": "Bi_UwbbE5QYv",
        "colab_type": "code",
        "colab": {}
      },
      "cell_type": "code",
      "source": [
        "rank"
      ],
      "execution_count": 0,
      "outputs": []
    },
    {
      "metadata": {
        "id": "azJLwSsu5QYy",
        "colab_type": "code",
        "colab": {}
      },
      "cell_type": "code",
      "source": [
        ""
      ],
      "execution_count": 0,
      "outputs": []
    },
    {
      "metadata": {
        "id": "0QNG_E_N5QY3",
        "colab_type": "text"
      },
      "cell_type": "markdown",
      "source": [
        "## find least similar rows"
      ]
    },
    {
      "metadata": {
        "id": "j-GRARSA5QY4",
        "colab_type": "code",
        "colab": {}
      },
      "cell_type": "code",
      "source": [
        "yt8m_rows_selected = []\n",
        "yt8m_rows_selected_cosine = []"
      ],
      "execution_count": 0,
      "outputs": []
    },
    {
      "metadata": {
        "id": "6XYg8wlc5QY4",
        "colab_type": "code",
        "colab": {}
      },
      "cell_type": "code",
      "source": [
        "for i in df_8m_log.index:\n",
        "    cosin_dist = scipy.spatial.distance.cosine(df_8m_log.loc[i,:],average_detected_gesture)\n",
        "    if cosin_dist <= 0.04:\n",
        "        yt8m_rows_selected.append(i)\n",
        "        yt8m_rows_selected_cosine.append(cosin_dist)"
      ],
      "execution_count": 0,
      "outputs": []
    },
    {
      "metadata": {
        "id": "-mWIo67a5QY5",
        "colab_type": "code",
        "colab": {}
      },
      "cell_type": "code",
      "source": [
        "yt8m_rows_selected = np.array(yt8m_rows_selected)"
      ],
      "execution_count": 0,
      "outputs": []
    },
    {
      "metadata": {
        "id": "guDCpTsE5QY6",
        "colab_type": "code",
        "colab": {}
      },
      "cell_type": "code",
      "source": [
        "np.flip(np.argsort(yt8m_rows_selected_cosine),axis=0)"
      ],
      "execution_count": 0,
      "outputs": []
    },
    {
      "metadata": {
        "id": "ZTC6sr3y5QY7",
        "colab_type": "code",
        "colab": {}
      },
      "cell_type": "code",
      "source": [
        "yt8m_rows_selected_sorted = yt8m_rows_selected[np.flip(np.argsort(yt8m_rows_selected_cosine),axis=0)]"
      ],
      "execution_count": 0,
      "outputs": []
    },
    {
      "metadata": {
        "id": "cRBvN5bo5QY8",
        "colab_type": "code",
        "colab": {}
      },
      "cell_type": "code",
      "source": [
        "df_8m_top = df_8m.loc[yt8m_rows_selected_sorted,:]"
      ],
      "execution_count": 0,
      "outputs": []
    },
    {
      "metadata": {
        "id": "CQ_0zYor5QY8",
        "colab_type": "code",
        "colab": {}
      },
      "cell_type": "code",
      "source": [
        "df_8m_top.shape"
      ],
      "execution_count": 0,
      "outputs": []
    },
    {
      "metadata": {
        "id": "VcMadrd-5QY-",
        "colab_type": "code",
        "colab": {}
      },
      "cell_type": "code",
      "source": [
        "rank = 1\n",
        "for i in df_8m_top.index:\n",
        "    vidId = df_8m_top.loc[i,\"video_id\"]\n",
        "    print(vidId)\n",
        "    start_second = df_8m_top.loc[i,\"start_second\"]\n",
        "    a = os.system(\"ffmpeg -ss {} -t {} -i {} {}\".format(start_second,1,\"youtube8m/\"+vidId+\".wav\",\"yt8m_least_similar/\"+\"{0:03}\".format(rank)+vidId+str(start_second)+\".wav\"))\n",
        "    print(\"{0:03}\".format(rank)+vidId+str(start_second)+\".wav\")\n",
        "    rank += 1"
      ],
      "execution_count": 0,
      "outputs": []
    },
    {
      "metadata": {
        "id": "iGILgecE5QY_",
        "colab_type": "text"
      },
      "cell_type": "markdown",
      "source": [
        "## try to find how scores to on detected and non detected gestures"
      ]
    },
    {
      "metadata": {
        "id": "s1T9UGGm5QY_",
        "colab_type": "code",
        "colab": {}
      },
      "cell_type": "code",
      "source": [
        "#frame numbers of questions\n",
        "framestamps = np.array([1410 ,2160 ,3180 ,3630 ,5730 ,6720 ])"
      ],
      "execution_count": 0,
      "outputs": []
    },
    {
      "metadata": {
        "id": "oTi8hFOZ5QZB",
        "colab_type": "code",
        "colab": {}
      },
      "cell_type": "code",
      "source": [
        "timestamps = framestamps/30"
      ],
      "execution_count": 0,
      "outputs": []
    },
    {
      "metadata": {
        "id": "PXR3Jnu-5QZC",
        "colab_type": "code",
        "colab": {}
      },
      "cell_type": "code",
      "source": [
        "timestamps"
      ],
      "execution_count": 0,
      "outputs": []
    },
    {
      "metadata": {
        "id": "BpxogWgi5QZD",
        "colab_type": "code",
        "colab": {}
      },
      "cell_type": "code",
      "source": [
        "test = df_final.iloc[timestamps,:]"
      ],
      "execution_count": 0,
      "outputs": []
    },
    {
      "metadata": {
        "id": "gB_6L3d85QZE",
        "colab_type": "code",
        "colab": {}
      },
      "cell_type": "code",
      "source": [
        "train_indexes = ~df_final.index.isin(timestamps)"
      ],
      "execution_count": 0,
      "outputs": []
    },
    {
      "metadata": {
        "id": "bdSuoFIX5QZF",
        "colab_type": "code",
        "colab": {}
      },
      "cell_type": "code",
      "source": [
        "train = df_final[train_indexes]"
      ],
      "execution_count": 0,
      "outputs": []
    },
    {
      "metadata": {
        "id": "4Zok719b5QZF",
        "colab_type": "code",
        "colab": {}
      },
      "cell_type": "code",
      "source": [
        "train_X,train_y = train[features],train[\"gesture_detected\"]"
      ],
      "execution_count": 0,
      "outputs": []
    },
    {
      "metadata": {
        "id": "gDTEWu665QZG",
        "colab_type": "code",
        "colab": {}
      },
      "cell_type": "code",
      "source": [
        "test_X,test_y = test[features],test[\"gesture_detected\"]"
      ],
      "execution_count": 0,
      "outputs": []
    },
    {
      "metadata": {
        "id": "3HllJBWt5QZH",
        "colab_type": "code",
        "colab": {}
      },
      "cell_type": "code",
      "source": [
        "test_X"
      ],
      "execution_count": 0,
      "outputs": []
    },
    {
      "metadata": {
        "id": "lWor-2GF5QZI",
        "colab_type": "code",
        "colab": {}
      },
      "cell_type": "code",
      "source": [
        "from sklearn.model_selection import GridSearchCV\n",
        "from sklearn.model_selection import StratifiedShuffleSplit\n",
        "C_range = np.linspace(180,300, 100)\n",
        "param_grid = dict(C=C_range)\n",
        "cv = StratifiedShuffleSplit(n_splits=5, test_size=0.2, random_state=42)\n",
        "grid = GridSearchCV(svmLinear, param_grid=param_grid, cv=cv)"
      ],
      "execution_count": 0,
      "outputs": []
    },
    {
      "metadata": {
        "id": "zQUx3PZr5QZJ",
        "colab_type": "code",
        "colab": {}
      },
      "cell_type": "code",
      "source": [
        "grid.fit(train_X[logistic_features], train_y)"
      ],
      "execution_count": 0,
      "outputs": []
    },
    {
      "metadata": {
        "id": "kCBRl8tG5QZK",
        "colab_type": "code",
        "colab": {}
      },
      "cell_type": "code",
      "source": [
        "pred_y = grid.predict(test_X[logistic_features])"
      ],
      "execution_count": 0,
      "outputs": []
    },
    {
      "metadata": {
        "id": "qp_uXXaT5QZL",
        "colab_type": "code",
        "colab": {}
      },
      "cell_type": "code",
      "source": [
        "print('Accuracy of linear SVM classifier on test set: {:.2f}'.format(grid.score(test_X[logistic_features], test_y)))"
      ],
      "execution_count": 0,
      "outputs": []
    },
    {
      "metadata": {
        "id": "xUQaZ8k85QZM",
        "colab_type": "code",
        "colab": {}
      },
      "cell_type": "code",
      "source": [
        "pred_y==1"
      ],
      "execution_count": 0,
      "outputs": []
    },
    {
      "metadata": {
        "id": "eUlmhFfS5QZN",
        "colab_type": "text"
      },
      "cell_type": "markdown",
      "source": [
        "## we are able to predict gesture on question 1,2,5\n",
        "compare the scores for these questions"
      ]
    },
    {
      "metadata": {
        "id": "DoabWTpv5QZO",
        "colab_type": "code",
        "colab": {}
      },
      "cell_type": "code",
      "source": [
        "df_scores = pd.read_excel(\"scores_of_test.xlsx\")"
      ],
      "execution_count": 0,
      "outputs": []
    },
    {
      "metadata": {
        "id": "JL04r-gq5QZO",
        "colab_type": "code",
        "colab": {}
      },
      "cell_type": "code",
      "source": [
        "df_bicycle_scores = df_scores.iloc[:,-7:-1] #select the scores for the bicycle questions from the data frame"
      ],
      "execution_count": 0,
      "outputs": []
    },
    {
      "metadata": {
        "id": "wKCv9gwf5QZP",
        "colab_type": "code",
        "colab": {}
      },
      "cell_type": "code",
      "source": [
        "df_bicycle_scores.describe()"
      ],
      "execution_count": 0,
      "outputs": []
    },
    {
      "metadata": {
        "id": "F30VeQSX5QZQ",
        "colab_type": "code",
        "colab": {}
      },
      "cell_type": "code",
      "source": [
        "df_pred_corr_ques= df_bicycle_scores.loc[:,pred_y==1]"
      ],
      "execution_count": 0,
      "outputs": []
    },
    {
      "metadata": {
        "id": "VPQC0RB-5QZR",
        "colab_type": "code",
        "colab": {}
      },
      "cell_type": "code",
      "source": [
        "df_pred_incorr_ques= df_bicycle_scores.loc[:,pred_y!=1]"
      ],
      "execution_count": 0,
      "outputs": []
    },
    {
      "metadata": {
        "id": "oRhZs7255QZS",
        "colab_type": "code",
        "colab": {}
      },
      "cell_type": "code",
      "source": [
        "from scipy import stats"
      ],
      "execution_count": 0,
      "outputs": []
    },
    {
      "metadata": {
        "id": "UZQU-8xQ5QZS",
        "colab_type": "code",
        "colab": {}
      },
      "cell_type": "code",
      "source": [
        "for i in range(3):\n",
        "    for j in range(3):\n",
        "        print(i,j)\n",
        "        tstat = stats.ttest_rel(df_pred_corr_ques.iloc[:,i],df_pred_incorr_ques.iloc[:,j])\n",
        "        print(f\"for {df_pred_corr_ques.columns[i]} and {df_pred_incorr_ques.columns[j]} is {tstat}\")"
      ],
      "execution_count": 0,
      "outputs": []
    },
    {
      "metadata": {
        "id": "8htm7wBO5QZT",
        "colab_type": "code",
        "colab": {}
      },
      "cell_type": "code",
      "source": [
        ""
      ],
      "execution_count": 0,
      "outputs": []
    },
    {
      "metadata": {
        "id": "eUWDgfNX5QZU",
        "colab_type": "code",
        "colab": {}
      },
      "cell_type": "code",
      "source": [
        ""
      ],
      "execution_count": 0,
      "outputs": []
    }
  ]
}